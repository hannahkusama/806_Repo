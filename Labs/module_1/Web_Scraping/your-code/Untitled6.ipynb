{
 "cells": [
  {
   "cell_type": "code",
   "execution_count": null,
   "metadata": {},
   "outputs": [],
   "source": []
  },
  {
   "cell_type": "code",
   "execution_count": 1,
   "metadata": {},
   "outputs": [],
   "source": [
    "url='https://www.producthunt.com/frontend/graphql'"
   ]
  },
  {
   "cell_type": "code",
   "execution_count": 12,
   "metadata": {},
   "outputs": [],
   "source": [
    "import requests as r\n",
    "from bs4 import BeautifulSoup\n",
    "import time"
   ]
  },
  {
   "cell_type": "code",
   "execution_count": 13,
   "metadata": {},
   "outputs": [],
   "source": [
    "topics=['productivity','tech','artificial intelligence']"
   ]
  },
  {
   "cell_type": "code",
   "execution_count": 14,
   "metadata": {},
   "outputs": [],
   "source": [
    "urls=['https://www.producthunt.com/topics/'+i+'?order=most-upvoted' for i in topics]"
   ]
  },
  {
   "cell_type": "code",
   "execution_count": 15,
   "metadata": {},
   "outputs": [
    {
     "data": {
      "text/plain": [
       "['https://www.producthunt.com/topics/productivity?order=most-upvoted',\n",
       " 'https://www.producthunt.com/topics/tech?order=most-upvoted',\n",
       " 'https://www.producthunt.com/topics/artificial intelligence?order=most-upvoted']"
      ]
     },
     "execution_count": 15,
     "metadata": {},
     "output_type": "execute_result"
    }
   ],
   "source": [
    "urls"
   ]
  },
  {
   "cell_type": "code",
   "execution_count": 16,
   "metadata": {},
   "outputs": [],
   "source": [
    "url='https://www.producthunt.com/frontend/graphql'"
   ]
  },
  {
   "cell_type": "code",
   "execution_count": 17,
   "metadata": {},
   "outputs": [],
   "source": [
    "headers=\"\"\"accept: */*\n",
    "accept-encoding: gzip, deflate, br\n",
    "accept-language: fr-FR,fr;q=0.9,en-US;q=0.8,en;q=0.7\n",
    "content-length: 286\n",
    "content-type: application/json\n",
    "cookie: __cfduid=ddb8065d90ed65b6cfed143582c7e8fa91593276348; first_visit_at=1593276350; first_referer=https://www.google.com/; ajs_anonymous_id=%221643cc46-618d-4dae-8ac1-99f48c1e077b%22; _ga=GA1.2.425330402.1593276351; _gid=GA1.2.247686854.1593276351; visitor_id=31c0c380-c9f0-4932-a0d2-6e7fb0b5f6c8; track_code=ede72163e7; intercom-id-fe4ce68d4a8352909f553b276994db414d33a55c=b43f7b85-fe12-4194-8fb8-b64de4207e0b; intercom-session-fe4ce68d4a8352909f553b276994db414d33a55c=; agreed_cookie_policy=agreed; csrf_token=Tl6ttxxCK6xi%2BPZx%2FLHxviD5ftVkMZvKqruzlWpqFU%2FRqLLtLbigRXOV0RxXWuD1unAilCsrb0grfGIbAWO1uA%3D%3D; _producthunt_session_production=Lzl3NmpmRjUxeFVlK2d0eTB2cVhraXBaa0ZVYkFlOHVBYlNVc1Y3S0VudU1kWHFhUzI0VUZBU1dmY2NjUzJlczNJMTFZN2hpRjhSMkVFVnoyUnFWV3dkUDlCTVlkRU01eTNmYk9Dc083ZGRMcWJZMWl1dEEyazg0L0lkR3NFKzJDb2ZuWWgrVjR1NmFuZk1lM2xQTXpRPT0tLWphN0FIbGFqU081OHJzSGhLVFJOVWc9PQ%3D%3D--e4574b9c682a492f7bb59730746df66fa4f1de5f\n",
    "origin: https://www.producthunt.com\n",
    "referer: https://www.producthunt.com/topics/productivity?order=most-upvoted\n",
    "sec-fetch-dest: empty\n",
    "sec-fetch-mode: cors\n",
    "sec-fetch-site: same-origin\n",
    "user-agent: Mozilla/5.0 (Macintosh; Intel Mac OS X 10_13_6) AppleWebKit/537.36 (KHTML, like Gecko) Chrome/83.0.4103.116 Safari/537.36\n",
    "x-requested-with: XMLHttpRequest\"\"\""
   ]
  },
  {
   "cell_type": "code",
   "execution_count": 18,
   "metadata": {},
   "outputs": [],
   "source": [
    "headers=dict(i.split(': ') for i in headers.split('\\n'))"
   ]
  },
  {
   "cell_type": "code",
   "execution_count": null,
   "metadata": {},
   "outputs": [],
   "source": [
    "##what are the consequences if i don't split ?"
   ]
  },
  {
   "cell_type": "code",
   "execution_count": null,
   "metadata": {},
   "outputs": [],
   "source": [
    "##payload variable are in firefox in the code part "
   ]
  },
  {
   "cell_type": "code",
   "execution_count": 19,
   "metadata": {},
   "outputs": [],
   "source": [
    "payload=\"\"\"{\"operationName\":\"TopicsSidebarQuery\",\"variables\":{},\"query\":\"query TopicsSidebarQuery {\\n  viewer {\\n    ...SidebarCardsViewer\\n    __typename\\n  }\\n}\\n\\nfragment SidebarCardsViewer on Viewer {\\n  id\\n  has_newsletter_subscription\\n  can_claim_aws_credits\\n  email\\n  __typename\\n}\\n\"}\"\"\"\n"
   ]
  },
  {
   "cell_type": "code",
   "execution_count": 20,
   "metadata": {},
   "outputs": [
    {
     "data": {
      "text/plain": [
       "<Response [200]>"
      ]
     },
     "execution_count": 20,
     "metadata": {},
     "output_type": "execute_result"
    }
   ],
   "source": [
    "r.post(url, headers=headers, data=payload)"
   ]
  },
  {
   "cell_type": "code",
   "execution_count": null,
   "metadata": {},
   "outputs": [],
   "source": [
    "##"
   ]
  },
  {
   "cell_type": "code",
   "execution_count": 22,
   "metadata": {},
   "outputs": [],
   "source": [
    "urls=['https://www.producthunt.com/topics/'+i+'?order=most-upvoted' for i in topics]"
   ]
  },
  {
   "cell_type": "code",
   "execution_count": 23,
   "metadata": {},
   "outputs": [
    {
     "data": {
      "text/plain": [
       "['https://www.producthunt.com/topics/productivity?order=most-upvoted',\n",
       " 'https://www.producthunt.com/topics/tech?order=most-upvoted',\n",
       " 'https://www.producthunt.com/topics/artificial intelligence?order=most-upvoted']"
      ]
     },
     "execution_count": 23,
     "metadata": {},
     "output_type": "execute_result"
    }
   ],
   "source": [
    "urls"
   ]
  },
  {
   "cell_type": "code",
   "execution_count": 24,
   "metadata": {},
   "outputs": [
    {
     "name": "stdout",
     "output_type": "stream",
     "text": [
      "Link https://www.producthunt.com/topics/productivity?order=most-upvoted is done\n",
      "Link https://www.producthunt.com/topics/tech?order=most-upvoted is done\n",
      "Link https://www.producthunt.com/topics/artificial intelligence?order=most-upvoted is done\n"
     ]
    },
    {
     "data": {
      "text/plain": [
       "['/r/p/164482?ref=topic_page&promo_id=12634',\n",
       " '/posts/startup-stash',\n",
       " '/posts/slack',\n",
       " '/posts/startup-pitch-decks',\n",
       " '/posts/station-3',\n",
       " '/posts/remove-bg',\n",
       " '/posts/notion-2-0',\n",
       " '/posts/coda',\n",
       " '/posts/polymail-2',\n",
       " '/posts/notion-1-0-web-mac-app',\n",
       " '/posts/crello',\n",
       " '/posts/bubble-3',\n",
       " '/posts/humaaans',\n",
       " '/posts/cheatsheet-2',\n",
       " '/posts/google-duplex',\n",
       " '/posts/open-peeps',\n",
       " '/posts/hey-62dbfc18-c745-4d86-9a5b-a23a1f4d9eb3',\n",
       " '/posts/brain-fm',\n",
       " '/posts/make-book',\n",
       " '/posts/whatruns',\n",
       " '/posts/morning-brew-2',\n",
       " '/posts/startup-stash',\n",
       " '/posts/slack',\n",
       " '/posts/startup-pitch-decks',\n",
       " '/posts/pexels-2-0',\n",
       " '/posts/station-3',\n",
       " '/posts/hotjar',\n",
       " '/posts/good-email-copy',\n",
       " '/posts/coolers',\n",
       " '/posts/hunter',\n",
       " '/posts/f-lux',\n",
       " '/posts/unsplash-5-0',\n",
       " '/posts/amazon-go',\n",
       " '/posts/autodraw',\n",
       " '/posts/prisma-2',\n",
       " '/posts/marketing-stack',\n",
       " '/posts/coda',\n",
       " '/posts/polymail-2',\n",
       " '/posts/feather-icons-2',\n",
       " '/posts/product-hunt-4-0',\n",
       " '/posts/carrd',\n",
       " '/posts/trendy-404s',\n",
       " '/posts/404-illustrations',\n",
       " '/posts/the-wayback-machine-404-fixer',\n",
       " '/posts/intelligent-404',\n",
       " '/posts/space-invaders-drumpf-404-page']"
      ]
     },
     "execution_count": 24,
     "metadata": {},
     "output_type": "execute_result"
    }
   ],
   "source": [
    "lol=[]\n",
    "for url in urls:\n",
    "    soup=BeautifulSoup(r.get(url).content)\n",
    "    lol.extend([i['href'] for i in soup.select('a.link_523b9')])\n",
    "    print('Link', url, 'is done')\n",
    "lol"
   ]
  },
  {
   "cell_type": "code",
   "execution_count": 25,
   "metadata": {},
   "outputs": [
    {
     "name": "stdout",
     "output_type": "stream",
     "text": [
      "Link https://www.producthunt.com/topics/productivity?order=most-upvoted is done\n",
      "Link https://www.producthunt.com/topics/tech?order=most-upvoted is done\n",
      "Link https://www.producthunt.com/topics/artificial intelligence?order=most-upvoted is done\n"
     ]
    },
    {
     "data": {
      "text/plain": [
       "46"
      ]
     },
     "execution_count": 25,
     "metadata": {},
     "output_type": "execute_result"
    }
   ],
   "source": [
    "lol=[]\n",
    "for url in urls:\n",
    "    soup=BeautifulSoup(r.get(url).content)\n",
    "    lol.extend([i['href'] for i in soup.select('a.link_523b9')])\n",
    "    print('Link', url, 'is done')\n",
    "len(lol)"
   ]
  },
  {
   "cell_type": "code",
   "execution_count": 21,
   "metadata": {},
   "outputs": [
    {
     "ename": "NameError",
     "evalue": "name 'soup' is not defined",
     "output_type": "error",
     "traceback": [
      "\u001b[0;31m---------------------------------------------------------------------------\u001b[0m",
      "\u001b[0;31mNameError\u001b[0m                                 Traceback (most recent call last)",
      "\u001b[0;32m<ipython-input-21-784b5b445b2a>\u001b[0m in \u001b[0;36m<module>\u001b[0;34m()\u001b[0m\n\u001b[0;32m----> 1\u001b[0;31m \u001b[0mlen\u001b[0m\u001b[0;34m(\u001b[0m\u001b[0;34m[\u001b[0m\u001b[0mi\u001b[0m\u001b[0;34m[\u001b[0m\u001b[0;34m'href'\u001b[0m\u001b[0;34m]\u001b[0m \u001b[0;32mfor\u001b[0m \u001b[0mi\u001b[0m \u001b[0;32min\u001b[0m \u001b[0msoup\u001b[0m\u001b[0;34m.\u001b[0m\u001b[0mselect\u001b[0m\u001b[0;34m(\u001b[0m\u001b[0;34m'a.link_523b9'\u001b[0m\u001b[0;34m)\u001b[0m\u001b[0;34m]\u001b[0m\u001b[0;34m)\u001b[0m\u001b[0;34m\u001b[0m\u001b[0m\n\u001b[0m",
      "\u001b[0;31mNameError\u001b[0m: name 'soup' is not defined"
     ]
    }
   ],
   "source": [
    "##len([i['href'] for i in soup.select('a.link_523b9')])"
   ]
  },
  {
   "cell_type": "code",
   "execution_count": 26,
   "metadata": {},
   "outputs": [],
   "source": [
    "lol=['https://www.producthunt.com'+i for i in lol if i.startswith('/posts')]"
   ]
  },
  {
   "cell_type": "code",
   "execution_count": 27,
   "metadata": {},
   "outputs": [
    {
     "data": {
      "text/plain": [
       "'https://www.producthunt.com/posts/startup-stash'"
      ]
     },
     "execution_count": 27,
     "metadata": {},
     "output_type": "execute_result"
    }
   ],
   "source": [
    "lol[0]"
   ]
  },
  {
   "cell_type": "code",
   "execution_count": 28,
   "metadata": {},
   "outputs": [],
   "source": [
    "def scrape_info(url):\n",
    "    soup=BeautifulSoup(r.get(url).content)\n",
    "    company_name=soup.select('h1')[0].text\n",
    "    \n",
    "    dct={'Company Name':company_name,\\\n",
    "         'Link':url}\n",
    "    return dct"
   ]
  },
  {
   "cell_type": "code",
   "execution_count": 29,
   "metadata": {},
   "outputs": [],
   "source": [
    "data=[]\n",
    "for ix, i in enumerate(lol):\n",
    "    output=scrape_info(i)\n",
    "    data.append(output)\n",
    "    if ix%5==0:\n",
    "        time.sleep(2)"
   ]
  },
  {
   "cell_type": "code",
   "execution_count": 30,
   "metadata": {},
   "outputs": [
    {
     "data": {
      "text/plain": [
       "44"
      ]
     },
     "execution_count": 30,
     "metadata": {},
     "output_type": "execute_result"
    }
   ],
   "source": [
    "ix"
   ]
  },
  {
   "cell_type": "code",
   "execution_count": 31,
   "metadata": {},
   "outputs": [
    {
     "data": {
      "text/plain": [
       "[{'Company Name': 'Startup Stash',\n",
       "  'Link': 'https://www.producthunt.com/posts/startup-stash'},\n",
       " {'Company Name': 'Slack', 'Link': 'https://www.producthunt.com/posts/slack'},\n",
       " {'Company Name': 'Startup Pitch Decks',\n",
       "  'Link': 'https://www.producthunt.com/posts/startup-pitch-decks'},\n",
       " {'Company Name': 'Station',\n",
       "  'Link': 'https://www.producthunt.com/posts/station-3'},\n",
       " {'Company Name': 'remove.bg',\n",
       "  'Link': 'https://www.producthunt.com/posts/remove-bg'},\n",
       " {'Company Name': 'Notion 2.0',\n",
       "  'Link': 'https://www.producthunt.com/posts/notion-2-0'},\n",
       " {'Company Name': 'Coda', 'Link': 'https://www.producthunt.com/posts/coda'},\n",
       " {'Company Name': 'Polymail',\n",
       "  'Link': 'https://www.producthunt.com/posts/polymail-2'},\n",
       " {'Company Name': 'Notion 1.0 Web + Mac App',\n",
       "  'Link': 'https://www.producthunt.com/posts/notion-1-0-web-mac-app'},\n",
       " {'Company Name': 'Crello',\n",
       "  'Link': 'https://www.producthunt.com/posts/crello'},\n",
       " {'Company Name': 'Bubble',\n",
       "  'Link': 'https://www.producthunt.com/posts/bubble-3'},\n",
       " {'Company Name': 'Humaaans',\n",
       "  'Link': 'https://www.producthunt.com/posts/humaaans'},\n",
       " {'Company Name': 'CheatSheet',\n",
       "  'Link': 'https://www.producthunt.com/posts/cheatsheet-2'},\n",
       " {'Company Name': 'Google Duplex',\n",
       "  'Link': 'https://www.producthunt.com/posts/google-duplex'},\n",
       " {'Company Name': 'Open Peeps',\n",
       "  'Link': 'https://www.producthunt.com/posts/open-peeps'},\n",
       " {'Company Name': 'HEY',\n",
       "  'Link': 'https://www.producthunt.com/posts/hey-62dbfc18-c745-4d86-9a5b-a23a1f4d9eb3'},\n",
       " {'Company Name': 'Brain.fm',\n",
       "  'Link': 'https://www.producthunt.com/posts/brain-fm'},\n",
       " {'Company Name': 'MAKE Book',\n",
       "  'Link': 'https://www.producthunt.com/posts/make-book'},\n",
       " {'Company Name': 'WhatRuns',\n",
       "  'Link': 'https://www.producthunt.com/posts/whatruns'},\n",
       " {'Company Name': 'Morning Brew',\n",
       "  'Link': 'https://www.producthunt.com/posts/morning-brew-2'},\n",
       " {'Company Name': 'Startup Stash',\n",
       "  'Link': 'https://www.producthunt.com/posts/startup-stash'},\n",
       " {'Company Name': 'Slack', 'Link': 'https://www.producthunt.com/posts/slack'},\n",
       " {'Company Name': 'Startup Pitch Decks',\n",
       "  'Link': 'https://www.producthunt.com/posts/startup-pitch-decks'},\n",
       " {'Company Name': 'Pexels 2.0',\n",
       "  'Link': 'https://www.producthunt.com/posts/pexels-2-0'},\n",
       " {'Company Name': 'Station',\n",
       "  'Link': 'https://www.producthunt.com/posts/station-3'},\n",
       " {'Company Name': 'Hotjar',\n",
       "  'Link': 'https://www.producthunt.com/posts/hotjar'},\n",
       " {'Company Name': 'Good Email Copy',\n",
       "  'Link': 'https://www.producthunt.com/posts/good-email-copy'},\n",
       " {'Company Name': 'Coolors',\n",
       "  'Link': 'https://www.producthunt.com/posts/coolers'},\n",
       " {'Company Name': 'Hunter',\n",
       "  'Link': 'https://www.producthunt.com/posts/hunter'},\n",
       " {'Company Name': 'f.lux', 'Link': 'https://www.producthunt.com/posts/f-lux'},\n",
       " {'Company Name': 'Unsplash 5.0',\n",
       "  'Link': 'https://www.producthunt.com/posts/unsplash-5-0'},\n",
       " {'Company Name': 'Amazon Go',\n",
       "  'Link': 'https://www.producthunt.com/posts/amazon-go'},\n",
       " {'Company Name': 'AutoDraw',\n",
       "  'Link': 'https://www.producthunt.com/posts/autodraw'},\n",
       " {'Company Name': 'Prisma',\n",
       "  'Link': 'https://www.producthunt.com/posts/prisma-2'},\n",
       " {'Company Name': 'Marketing Stack',\n",
       "  'Link': 'https://www.producthunt.com/posts/marketing-stack'},\n",
       " {'Company Name': 'Coda', 'Link': 'https://www.producthunt.com/posts/coda'},\n",
       " {'Company Name': 'Polymail',\n",
       "  'Link': 'https://www.producthunt.com/posts/polymail-2'},\n",
       " {'Company Name': 'Feather Icons',\n",
       "  'Link': 'https://www.producthunt.com/posts/feather-icons-2'},\n",
       " {'Company Name': 'Product Hunt 4.0',\n",
       "  'Link': 'https://www.producthunt.com/posts/product-hunt-4-0'},\n",
       " {'Company Name': 'Carrd', 'Link': 'https://www.producthunt.com/posts/carrd'},\n",
       " {'Company Name': 'Trendy 404s',\n",
       "  'Link': 'https://www.producthunt.com/posts/trendy-404s'},\n",
       " {'Company Name': '404 Illustrations',\n",
       "  'Link': 'https://www.producthunt.com/posts/404-illustrations'},\n",
       " {'Company Name': 'The Wayback Machine 404 Fixer',\n",
       "  'Link': 'https://www.producthunt.com/posts/the-wayback-machine-404-fixer'},\n",
       " {'Company Name': 'Intelligent 404',\n",
       "  'Link': 'https://www.producthunt.com/posts/intelligent-404'},\n",
       " {'Company Name': 'Space Invaders + #drumpf 404 Page',\n",
       "  'Link': 'https://www.producthunt.com/posts/space-invaders-drumpf-404-page'}]"
      ]
     },
     "execution_count": 31,
     "metadata": {},
     "output_type": "execute_result"
    }
   ],
   "source": [
    "data"
   ]
  },
  {
   "cell_type": "code",
   "execution_count": 32,
   "metadata": {},
   "outputs": [],
   "source": [
    "import pandas as pd"
   ]
  },
  {
   "cell_type": "code",
   "execution_count": 33,
   "metadata": {},
   "outputs": [],
   "source": [
    "df=pd.DataFrame(data)"
   ]
  },
  {
   "cell_type": "code",
   "execution_count": 34,
   "metadata": {
    "scrolled": true
   },
   "outputs": [
    {
     "data": {
      "text/html": [
       "<div>\n",
       "<style scoped>\n",
       "    .dataframe tbody tr th:only-of-type {\n",
       "        vertical-align: middle;\n",
       "    }\n",
       "\n",
       "    .dataframe tbody tr th {\n",
       "        vertical-align: top;\n",
       "    }\n",
       "\n",
       "    .dataframe thead th {\n",
       "        text-align: right;\n",
       "    }\n",
       "</style>\n",
       "<table border=\"1\" class=\"dataframe\">\n",
       "  <thead>\n",
       "    <tr style=\"text-align: right;\">\n",
       "      <th></th>\n",
       "      <th>Company Name</th>\n",
       "      <th>Link</th>\n",
       "    </tr>\n",
       "  </thead>\n",
       "  <tbody>\n",
       "    <tr>\n",
       "      <th>0</th>\n",
       "      <td>Startup Stash</td>\n",
       "      <td>https://www.producthunt.com/posts/startup-stash</td>\n",
       "    </tr>\n",
       "    <tr>\n",
       "      <th>1</th>\n",
       "      <td>Slack</td>\n",
       "      <td>https://www.producthunt.com/posts/slack</td>\n",
       "    </tr>\n",
       "    <tr>\n",
       "      <th>2</th>\n",
       "      <td>Startup Pitch Decks</td>\n",
       "      <td>https://www.producthunt.com/posts/startup-pitc...</td>\n",
       "    </tr>\n",
       "    <tr>\n",
       "      <th>3</th>\n",
       "      <td>Station</td>\n",
       "      <td>https://www.producthunt.com/posts/station-3</td>\n",
       "    </tr>\n",
       "    <tr>\n",
       "      <th>4</th>\n",
       "      <td>remove.bg</td>\n",
       "      <td>https://www.producthunt.com/posts/remove-bg</td>\n",
       "    </tr>\n",
       "    <tr>\n",
       "      <th>5</th>\n",
       "      <td>Notion 2.0</td>\n",
       "      <td>https://www.producthunt.com/posts/notion-2-0</td>\n",
       "    </tr>\n",
       "    <tr>\n",
       "      <th>6</th>\n",
       "      <td>Coda</td>\n",
       "      <td>https://www.producthunt.com/posts/coda</td>\n",
       "    </tr>\n",
       "    <tr>\n",
       "      <th>7</th>\n",
       "      <td>Polymail</td>\n",
       "      <td>https://www.producthunt.com/posts/polymail-2</td>\n",
       "    </tr>\n",
       "    <tr>\n",
       "      <th>8</th>\n",
       "      <td>Notion 1.0 Web + Mac App</td>\n",
       "      <td>https://www.producthunt.com/posts/notion-1-0-w...</td>\n",
       "    </tr>\n",
       "    <tr>\n",
       "      <th>9</th>\n",
       "      <td>Crello</td>\n",
       "      <td>https://www.producthunt.com/posts/crello</td>\n",
       "    </tr>\n",
       "    <tr>\n",
       "      <th>10</th>\n",
       "      <td>Bubble</td>\n",
       "      <td>https://www.producthunt.com/posts/bubble-3</td>\n",
       "    </tr>\n",
       "    <tr>\n",
       "      <th>11</th>\n",
       "      <td>Humaaans</td>\n",
       "      <td>https://www.producthunt.com/posts/humaaans</td>\n",
       "    </tr>\n",
       "    <tr>\n",
       "      <th>12</th>\n",
       "      <td>CheatSheet</td>\n",
       "      <td>https://www.producthunt.com/posts/cheatsheet-2</td>\n",
       "    </tr>\n",
       "    <tr>\n",
       "      <th>13</th>\n",
       "      <td>Google Duplex</td>\n",
       "      <td>https://www.producthunt.com/posts/google-duplex</td>\n",
       "    </tr>\n",
       "    <tr>\n",
       "      <th>14</th>\n",
       "      <td>Open Peeps</td>\n",
       "      <td>https://www.producthunt.com/posts/open-peeps</td>\n",
       "    </tr>\n",
       "    <tr>\n",
       "      <th>15</th>\n",
       "      <td>HEY</td>\n",
       "      <td>https://www.producthunt.com/posts/hey-62dbfc18...</td>\n",
       "    </tr>\n",
       "    <tr>\n",
       "      <th>16</th>\n",
       "      <td>Brain.fm</td>\n",
       "      <td>https://www.producthunt.com/posts/brain-fm</td>\n",
       "    </tr>\n",
       "    <tr>\n",
       "      <th>17</th>\n",
       "      <td>MAKE Book</td>\n",
       "      <td>https://www.producthunt.com/posts/make-book</td>\n",
       "    </tr>\n",
       "    <tr>\n",
       "      <th>18</th>\n",
       "      <td>WhatRuns</td>\n",
       "      <td>https://www.producthunt.com/posts/whatruns</td>\n",
       "    </tr>\n",
       "    <tr>\n",
       "      <th>19</th>\n",
       "      <td>Morning Brew</td>\n",
       "      <td>https://www.producthunt.com/posts/morning-brew-2</td>\n",
       "    </tr>\n",
       "    <tr>\n",
       "      <th>20</th>\n",
       "      <td>Startup Stash</td>\n",
       "      <td>https://www.producthunt.com/posts/startup-stash</td>\n",
       "    </tr>\n",
       "    <tr>\n",
       "      <th>21</th>\n",
       "      <td>Slack</td>\n",
       "      <td>https://www.producthunt.com/posts/slack</td>\n",
       "    </tr>\n",
       "    <tr>\n",
       "      <th>22</th>\n",
       "      <td>Startup Pitch Decks</td>\n",
       "      <td>https://www.producthunt.com/posts/startup-pitc...</td>\n",
       "    </tr>\n",
       "    <tr>\n",
       "      <th>23</th>\n",
       "      <td>Pexels 2.0</td>\n",
       "      <td>https://www.producthunt.com/posts/pexels-2-0</td>\n",
       "    </tr>\n",
       "    <tr>\n",
       "      <th>24</th>\n",
       "      <td>Station</td>\n",
       "      <td>https://www.producthunt.com/posts/station-3</td>\n",
       "    </tr>\n",
       "    <tr>\n",
       "      <th>25</th>\n",
       "      <td>Hotjar</td>\n",
       "      <td>https://www.producthunt.com/posts/hotjar</td>\n",
       "    </tr>\n",
       "    <tr>\n",
       "      <th>26</th>\n",
       "      <td>Good Email Copy</td>\n",
       "      <td>https://www.producthunt.com/posts/good-email-copy</td>\n",
       "    </tr>\n",
       "    <tr>\n",
       "      <th>27</th>\n",
       "      <td>Coolors</td>\n",
       "      <td>https://www.producthunt.com/posts/coolers</td>\n",
       "    </tr>\n",
       "    <tr>\n",
       "      <th>28</th>\n",
       "      <td>Hunter</td>\n",
       "      <td>https://www.producthunt.com/posts/hunter</td>\n",
       "    </tr>\n",
       "    <tr>\n",
       "      <th>29</th>\n",
       "      <td>f.lux</td>\n",
       "      <td>https://www.producthunt.com/posts/f-lux</td>\n",
       "    </tr>\n",
       "    <tr>\n",
       "      <th>30</th>\n",
       "      <td>Unsplash 5.0</td>\n",
       "      <td>https://www.producthunt.com/posts/unsplash-5-0</td>\n",
       "    </tr>\n",
       "    <tr>\n",
       "      <th>31</th>\n",
       "      <td>Amazon Go</td>\n",
       "      <td>https://www.producthunt.com/posts/amazon-go</td>\n",
       "    </tr>\n",
       "    <tr>\n",
       "      <th>32</th>\n",
       "      <td>AutoDraw</td>\n",
       "      <td>https://www.producthunt.com/posts/autodraw</td>\n",
       "    </tr>\n",
       "    <tr>\n",
       "      <th>33</th>\n",
       "      <td>Prisma</td>\n",
       "      <td>https://www.producthunt.com/posts/prisma-2</td>\n",
       "    </tr>\n",
       "    <tr>\n",
       "      <th>34</th>\n",
       "      <td>Marketing Stack</td>\n",
       "      <td>https://www.producthunt.com/posts/marketing-stack</td>\n",
       "    </tr>\n",
       "    <tr>\n",
       "      <th>35</th>\n",
       "      <td>Coda</td>\n",
       "      <td>https://www.producthunt.com/posts/coda</td>\n",
       "    </tr>\n",
       "    <tr>\n",
       "      <th>36</th>\n",
       "      <td>Polymail</td>\n",
       "      <td>https://www.producthunt.com/posts/polymail-2</td>\n",
       "    </tr>\n",
       "    <tr>\n",
       "      <th>37</th>\n",
       "      <td>Feather Icons</td>\n",
       "      <td>https://www.producthunt.com/posts/feather-icons-2</td>\n",
       "    </tr>\n",
       "    <tr>\n",
       "      <th>38</th>\n",
       "      <td>Product Hunt 4.0</td>\n",
       "      <td>https://www.producthunt.com/posts/product-hunt...</td>\n",
       "    </tr>\n",
       "    <tr>\n",
       "      <th>39</th>\n",
       "      <td>Carrd</td>\n",
       "      <td>https://www.producthunt.com/posts/carrd</td>\n",
       "    </tr>\n",
       "    <tr>\n",
       "      <th>40</th>\n",
       "      <td>Trendy 404s</td>\n",
       "      <td>https://www.producthunt.com/posts/trendy-404s</td>\n",
       "    </tr>\n",
       "    <tr>\n",
       "      <th>41</th>\n",
       "      <td>404 Illustrations</td>\n",
       "      <td>https://www.producthunt.com/posts/404-illustra...</td>\n",
       "    </tr>\n",
       "    <tr>\n",
       "      <th>42</th>\n",
       "      <td>The Wayback Machine 404 Fixer</td>\n",
       "      <td>https://www.producthunt.com/posts/the-wayback-...</td>\n",
       "    </tr>\n",
       "    <tr>\n",
       "      <th>43</th>\n",
       "      <td>Intelligent 404</td>\n",
       "      <td>https://www.producthunt.com/posts/intelligent-404</td>\n",
       "    </tr>\n",
       "    <tr>\n",
       "      <th>44</th>\n",
       "      <td>Space Invaders + #drumpf 404 Page</td>\n",
       "      <td>https://www.producthunt.com/posts/space-invade...</td>\n",
       "    </tr>\n",
       "  </tbody>\n",
       "</table>\n",
       "</div>"
      ],
      "text/plain": [
       "                         Company Name  \\\n",
       "0                       Startup Stash   \n",
       "1                               Slack   \n",
       "2                 Startup Pitch Decks   \n",
       "3                             Station   \n",
       "4                           remove.bg   \n",
       "5                          Notion 2.0   \n",
       "6                                Coda   \n",
       "7                            Polymail   \n",
       "8            Notion 1.0 Web + Mac App   \n",
       "9                              Crello   \n",
       "10                             Bubble   \n",
       "11                           Humaaans   \n",
       "12                         CheatSheet   \n",
       "13                      Google Duplex   \n",
       "14                         Open Peeps   \n",
       "15                                HEY   \n",
       "16                           Brain.fm   \n",
       "17                          MAKE Book   \n",
       "18                           WhatRuns   \n",
       "19                       Morning Brew   \n",
       "20                      Startup Stash   \n",
       "21                              Slack   \n",
       "22                Startup Pitch Decks   \n",
       "23                         Pexels 2.0   \n",
       "24                            Station   \n",
       "25                             Hotjar   \n",
       "26                    Good Email Copy   \n",
       "27                            Coolors   \n",
       "28                             Hunter   \n",
       "29                              f.lux   \n",
       "30                       Unsplash 5.0   \n",
       "31                          Amazon Go   \n",
       "32                           AutoDraw   \n",
       "33                             Prisma   \n",
       "34                    Marketing Stack   \n",
       "35                               Coda   \n",
       "36                           Polymail   \n",
       "37                      Feather Icons   \n",
       "38                   Product Hunt 4.0   \n",
       "39                              Carrd   \n",
       "40                        Trendy 404s   \n",
       "41                  404 Illustrations   \n",
       "42      The Wayback Machine 404 Fixer   \n",
       "43                    Intelligent 404   \n",
       "44  Space Invaders + #drumpf 404 Page   \n",
       "\n",
       "                                                 Link  \n",
       "0     https://www.producthunt.com/posts/startup-stash  \n",
       "1             https://www.producthunt.com/posts/slack  \n",
       "2   https://www.producthunt.com/posts/startup-pitc...  \n",
       "3         https://www.producthunt.com/posts/station-3  \n",
       "4         https://www.producthunt.com/posts/remove-bg  \n",
       "5        https://www.producthunt.com/posts/notion-2-0  \n",
       "6              https://www.producthunt.com/posts/coda  \n",
       "7        https://www.producthunt.com/posts/polymail-2  \n",
       "8   https://www.producthunt.com/posts/notion-1-0-w...  \n",
       "9            https://www.producthunt.com/posts/crello  \n",
       "10         https://www.producthunt.com/posts/bubble-3  \n",
       "11         https://www.producthunt.com/posts/humaaans  \n",
       "12     https://www.producthunt.com/posts/cheatsheet-2  \n",
       "13    https://www.producthunt.com/posts/google-duplex  \n",
       "14       https://www.producthunt.com/posts/open-peeps  \n",
       "15  https://www.producthunt.com/posts/hey-62dbfc18...  \n",
       "16         https://www.producthunt.com/posts/brain-fm  \n",
       "17        https://www.producthunt.com/posts/make-book  \n",
       "18         https://www.producthunt.com/posts/whatruns  \n",
       "19   https://www.producthunt.com/posts/morning-brew-2  \n",
       "20    https://www.producthunt.com/posts/startup-stash  \n",
       "21            https://www.producthunt.com/posts/slack  \n",
       "22  https://www.producthunt.com/posts/startup-pitc...  \n",
       "23       https://www.producthunt.com/posts/pexels-2-0  \n",
       "24        https://www.producthunt.com/posts/station-3  \n",
       "25           https://www.producthunt.com/posts/hotjar  \n",
       "26  https://www.producthunt.com/posts/good-email-copy  \n",
       "27          https://www.producthunt.com/posts/coolers  \n",
       "28           https://www.producthunt.com/posts/hunter  \n",
       "29            https://www.producthunt.com/posts/f-lux  \n",
       "30     https://www.producthunt.com/posts/unsplash-5-0  \n",
       "31        https://www.producthunt.com/posts/amazon-go  \n",
       "32         https://www.producthunt.com/posts/autodraw  \n",
       "33         https://www.producthunt.com/posts/prisma-2  \n",
       "34  https://www.producthunt.com/posts/marketing-stack  \n",
       "35             https://www.producthunt.com/posts/coda  \n",
       "36       https://www.producthunt.com/posts/polymail-2  \n",
       "37  https://www.producthunt.com/posts/feather-icons-2  \n",
       "38  https://www.producthunt.com/posts/product-hunt...  \n",
       "39            https://www.producthunt.com/posts/carrd  \n",
       "40      https://www.producthunt.com/posts/trendy-404s  \n",
       "41  https://www.producthunt.com/posts/404-illustra...  \n",
       "42  https://www.producthunt.com/posts/the-wayback-...  \n",
       "43  https://www.producthunt.com/posts/intelligent-404  \n",
       "44  https://www.producthunt.com/posts/space-invade...  "
      ]
     },
     "execution_count": 34,
     "metadata": {},
     "output_type": "execute_result"
    }
   ],
   "source": [
    "df"
   ]
  },
  {
   "cell_type": "code",
   "execution_count": 35,
   "metadata": {},
   "outputs": [],
   "source": [
    "from datetime import datetime"
   ]
  },
  {
   "cell_type": "code",
   "execution_count": 36,
   "metadata": {},
   "outputs": [
    {
     "name": "stdout",
     "output_type": "stream",
     "text": [
      "Jun_28_03_08.csv\n"
     ]
    }
   ],
   "source": [
    "import time\n",
    "\n",
    "t = time.localtime()\n",
    "current_time = time.strftime(\"%b_%d_%H_%M\", t)\n",
    "print(current_time+'.csv')"
   ]
  },
  {
   "cell_type": "code",
   "execution_count": 38,
   "metadata": {},
   "outputs": [],
   "source": [
    "df=pd.DataFrame(data)\n"
   ]
  },
  {
   "cell_type": "code",
   "execution_count": 39,
   "metadata": {},
   "outputs": [],
   "source": [
    "df.to_csv('/users/sg/Jun_28_03_08.csv')"
   ]
  },
  {
   "cell_type": "code",
   "execution_count": null,
   "metadata": {},
   "outputs": [],
   "source": []
  }
 ],
 "metadata": {
  "kernelspec": {
   "display_name": "Python 3",
   "language": "python",
   "name": "python3"
  },
  "language_info": {
   "codemirror_mode": {
    "name": "ipython",
    "version": 3
   },
   "file_extension": ".py",
   "mimetype": "text/x-python",
   "name": "python",
   "nbconvert_exporter": "python",
   "pygments_lexer": "ipython3",
   "version": "3.7.0"
  }
 },
 "nbformat": 4,
 "nbformat_minor": 2
}
