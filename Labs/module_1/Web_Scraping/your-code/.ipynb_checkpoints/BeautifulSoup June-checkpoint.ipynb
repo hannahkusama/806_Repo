{
 "cells": [
  {
   "cell_type": "code",
   "execution_count": 1,
   "metadata": {},
   "outputs": [],
   "source": [
    "import requests as r"
   ]
  },
  {
   "cell_type": "code",
   "execution_count": 2,
   "metadata": {},
   "outputs": [],
   "source": [
    "from bs4 import BeautifulSoup"
   ]
  },
  {
   "cell_type": "code",
   "execution_count": 3,
   "metadata": {},
   "outputs": [],
   "source": [
    "url='http://www.allocine.fr/article/fichearticle_gen_carticle=18690706.html'"
   ]
  },
  {
   "cell_type": "code",
   "execution_count": 5,
   "metadata": {},
   "outputs": [],
   "source": [
    "resp=r.get(url)"
   ]
  },
  {
   "cell_type": "code",
   "execution_count": 10,
   "metadata": {
    "scrolled": false
   },
   "outputs": [],
   "source": [
    "soup=BeautifulSoup(resp.content)"
   ]
  },
  {
   "cell_type": "code",
   "execution_count": 14,
   "metadata": {},
   "outputs": [
    {
     "data": {
      "text/plain": [
       "\"15 ans de Batman Begins : comment Christopher Nolan a sauvé l'Homme Chauve-Souris\""
      ]
     },
     "execution_count": 14,
     "metadata": {},
     "output_type": "execute_result"
    }
   ],
   "source": [
    "soup.select('div.titlebar-title.titlebar-title-lg')[0].text"
   ]
  },
  {
   "cell_type": "code",
   "execution_count": 17,
   "metadata": {},
   "outputs": [
    {
     "data": {
      "text/plain": [
       "['titlebar-title', 'titlebar-title-lg']"
      ]
     },
     "execution_count": 17,
     "metadata": {},
     "output_type": "execute_result"
    }
   ],
   "source": [
    "soup.select('div.titlebar-title.titlebar-title-lg')[0]['class']"
   ]
  },
  {
   "cell_type": "code",
   "execution_count": 20,
   "metadata": {},
   "outputs": [
    {
     "data": {
      "text/plain": [
       "['titlebar-title', 'titlebar-title-lg']"
      ]
     },
     "execution_count": 20,
     "metadata": {},
     "output_type": "execute_result"
    }
   ],
   "source": [
    "soup.select('div.titlebar-title.titlebar-title-lg')[0].get('class')"
   ]
  },
  {
   "cell_type": "code",
   "execution_count": 21,
   "metadata": {},
   "outputs": [
    {
     "data": {
      "text/plain": [
       "[<p class=\"article-lead\">Sorti le 15 juin 2005 sur nos écrans, \"Batman Begins\" ressuscitait l'Homme Chauve-Souris grâce à Christopher Nolan et Christian Bale, et un projet qui a mis du temps à se concrétiser.</p>]"
      ]
     },
     "execution_count": 21,
     "metadata": {},
     "output_type": "execute_result"
    }
   ],
   "source": [
    "soup.select('p.article-lead')"
   ]
  },
  {
   "cell_type": "code",
   "execution_count": 28,
   "metadata": {
    "collapsed": true
   },
   "outputs": [
    {
     "name": "stdout",
     "output_type": "stream",
     "text": [
      "Sorti le 15 juin 2005 sur nos écrans, \"Batman Begins\" ressuscitait l'Homme Chauve-Souris grâce à Christopher Nolan et Christian Bale, et un projet qui a mis du temps à se concrétiser.\n",
      "Le 20 juin 1997, Batman & Robin sort sur les écrans américains. Quatrième opus de la saga lancée avec succès en 1989, il est de nouveau réalisé par Joel Schumacher, qui rempile après Batman Forever, tandis que George Clooney, star de la série Urgences, remplace Val Kilmer dans le costume de l'Homme Chauve-Souris. Face à lui, deux méchants incarnés par Arnold Schwarzenegger et Uma Thurman, alors au sommet de la hype grâce à Pulp Fiction. Sur le papier, l'ambition affichée est de détruire le box-office estival. Dans les faits, c'est la franchise qui s'éteint dans une ambiance de Techno Parade plus poussée que dans l'épisode précédent, pendant que Robin (Chris O'Donnell) fait sa crise d'ado et que Mister Freeze enchaîne les jeux de mots. Comme en 1995, l'idée est de renouer avec la légéreté et le côté parodique et coloré de la série des années 60, mais ça ne prend pas. Ni à l'image, ni dans les salles mondiales, où il engrange 238,2 millions de dollars de recettes, pour un budget de 125.\n",
      "Le bilan n'est donc pas loin d'être catastrophique, et la Warner décide d'arrêter les frais. Bien qu'ambitieux, avec sa volonté de faire revenir tous les méchants des précédents films grâce aux hallucinations causées par l'Épouvantail à qui Nicolas Cage aurait prêté ses traits et sa folie, le projet de cinquième volet est annulé et c'est loin des écrans que Batman fête ses 60 ans, en 1999. Après Superman, ridiculisé par le calamiteux épisode IV de 1987 et que Tim Burton n'est finalement pas parvenu à ressusciter dix ans plus tard, le studio se retrouve avec un deuxième super-héros iconique absent des salles de cinéma mais compte y remédier au plus vite, et ce dès la fin des années 90. Alors que la décennie et le siècle s'achèvent, les rumeurs de retour de l'Homme Chauve-Souris se multiplient : on parle d'une approche de Val Kilmer, qui aurait été trop gourmand financièrement pour réenfiler le costume ; Kurt Russell semble faire figure de nouveau favori jusqu'à l'échec de Soldier ; et les noms de John Travolta, Alec Baldwin, David Duchovny ou Mel Gibson circulent sans que personne n'y croit vraiment.\n",
      "Arrive alors Clint Eastwood, à qui la Warner, qui hébergeait déjà ses projets à l'époque, propose d'incarner un Bruce Wayne vieillissant dans ce qui aurait sans doute été une adaptation de la série animée Batman - La Relève (Batman Beyond en VO), lancée avec succès en 1999 et dans laquelle un jeune homme devient le nouvel Homme Chauve-Souris, coaché par son prédécesseur. Mais l'interprète de l'Inspecteur Harry refuse et le studio se tourne vers un réalisateur moins expérimenté : Darren Aronofsky. Auteur du très remarqué Pi, il n'a pas encore mis de claque aux spectateurs du monde entier grâce à Requiem for a Dream lorsqu'il est officiellement présenté comme le metteur en scène du prochain Batman, le 21 septembre 2000. Le long métrage doit s'inspirer de la célèbre bande-dessinée \"Année Un\" signée Frank Miller, engagé pour co-écrire le scénario de cette histoire qui revient aux débuts des aventures de Bruce Wayne dans une ambiance très sombre. Le chef opérateur Matthew Libatique, qui a suivi le cinéaste pendant toute sa carrière, est aussi sur le pont, Taxi Driver, French Connection ou Un justicier dans la ville sont cités comme références… et c'est ensuite que les ennuis commencent.\n",
      "Le réalisateur veut que son Gotham City soit créé dans les rues de Tokyo et plusieurs libertés prises avec le matériau original n'auraient pas été au goût du studio, si l'on en croit le livre \"Tales from Development Hell\" signé David Hughes en 2003 : Alfred y serait notamment devenu un mécanicien afro-américain surnommé \"Big Al\", le Commissaire Gordon un personnage aux tendances suicidaires et Bruce Wayne un SDF. Le casting de ce dernier provoque aussi quelques tensions. Des bruits de couloir ont parlé d'une approche de Christian Bale (déjà) et Clint Eastwood (encore), mais Darren Aronofsky avait un autre nom en tête : celui de Joaquin Phoenix, comme il le révèle en avril 2020 au magazine Empire. Mais les producteurs ne l'entendaient pas de cette oreille. \"Le studio voulait Freddie Prinze Jr.\", explique-t-il. \"Je me souviens avoir alors pensé que nous avions deux films différents en tête (…) Le Batman que j'avais écrit avait un style très différent de celui qu'ils ont fini par faire.\" Sans lui donc, car le projet est abandonné et son script, dont la noirceur aurait même choqué Frank Miller, mis de côté.\n",
      "Retour à la case départ pour l'Homme Chauve-Souris et la Warner, qui essuie un refus de M. Night Shyamalan puis des Wachowski, qui préfèrent se concentrer sur les deux suites de Matrix. Développé en parallèle, le film Batman vs Superman de Wolfgang Petersen tombe lui aussi à l'eau, alors que la studio avait visiblement jeté son dévolu sur Colin Farrell et Jude Law pour les rôles principaux. Nous sommes alors en 2002, Spider-Man s'apprête à confirmer le renouveau des super-héros sur grand écran, après le succès des X-Men de Bryan Singer, et le sauveur du studio se trouve dans l'un de ses prochains films. Remarqué grâce à Following et, surtout, Memento, Christopher Nolan vient de diriger leur remake du polar norvégien Insomnia, sans savoir que le long métrage fera office de carte de visite et qu'il lui offrira un aller simple pour Gotham City. Car la nouvelle tombe officiellement à la fin du mois de janvier 2003 : le Britannique va relancer Bruce Wayne et son alter ego sur grand écran, avec un tout nouveau projet.\n",
      "Après avoir consulté le scénariste Andrew Kevin Walker, qui avait travaillé sur le Batman vs Superman abandonné, Christopher Nolan se met au travail sur le script avec David S. Goyer (Blade), à qui l'on doit le traitement de l'histoire. Le réalisateur prouve, à cette occasion, son caractère et son goût pour le secret, puisque les producteurs chargés de valider le projet n'ont pas eu d'autre choix, pour avoir accès au scénario, que d'aller le lire dans son garage, QG dans lequel une bonne partie du travail préparatoire avec le chef décorateur Nathan Crowley a eu lieu. Influencé par les comic books \"Un long Halloween\" et \"Amère victoire\", le long métrage se présente lui aussi comme une origin story revenant sur les premiers pas du héros, mais Goyer annonce qu'il n'a rien à voir avec \"Année Un\"… dont on retrouve pourtant quelques éléments dans le résultat final : le policier corrompu Arnold Flass (que Joe Pantoliano aurait refusé d'incarner, le jugeant trop peu important), un James Gordon qui reste droit dans ses bottes, le sonar de l'Homme Chauve-Souris ou encore le teasing de son prochain adversaire.\n",
      "Annoncé pour 2005, le long métrage ne s'appelle pas encore Batman Begins (ni Intimidation Game, son titre de travail), et le scénario n'est pas encore bouclé lorsque Christopher Nolan et la Warner se mettent en quête de son acteur principal. Et comme toujours dans ces cas-là, de nombreux noms ont circulé, entre les approches concrètes, les simples évocations, les rumeurs infondées et les comédiens qui ont publiquement fait part de leur intérêt pour attirer l'attention des producteurs. Comme Keanu Reeves, qui était déjà en lice face à Val Kilmer une décennie plus tôt. Également courtisé pour incarner Superman, Josh Hartnett aurait quant à lui refusé le rôle, tandis qu'Heath Ledger, après un échange avec le cinéaste, aurait admis que le personnage n'était pas fait pour lui, et il le prouvera quelques années plus tard avec son Joker démentiel dans la suite. On parle d'un certain Steven Pasquale ou, encore, de David Duchovny, et le studio semble avoir trouvé son favori en la personne d'Ashton Kutcher, star de la série That '70s Show qui se tourne de plus en plus vers le grand écran.\n",
      "Mais Christopher Nolan n'est pas très enthousiaste, craignant que le fait d'engager un acteur de comédie dans le rôle ne conduise au même tollé que lorsque Michael Keaton avait hérité du costume chez Tim Burton. Contrairement à ce qu'il s'est passé avec Darren Aronofsky, le studio se range du côté du cinéaste, et huit comédiens sont convoqués pour passer une audition : Henry Cavill, Billy Crudup, Eion Bailey, Joshua Jackson, Hugh Dancy, Cillian Murphy, Jake Gyllenhaal et Christian Bale. Certains d'entre eux ont même le droit à un essai caméra dans la tenue portée par Val Kilmer dans Batman Forever, comme l'a prouvé une vidéo mise en ligne il y a quelques années (avec ceux d'Anne Hathaway, Tom Hardy et Aaron Eckhart pour les opus suivants).\n",
      "Et là, l'évidence parle. Même pour David S. Goyer, qui avait fait de Jake Gyllenhaal son chouchou avant le début des auditions. Aussi bien motivé par sa déception face aux derniers films que par sa passion pour Batman née lorsqu'un ami lui a prêté le comic book \"Arkham Asylum\", en 2000, Christian Bale décide de jouer le personnage comme un monstre plein de rage, proposition qui a plu à Christopher Nolan. Lequel a donc choisi de s'offrir les services du premier acteur avec lequel il avait pu discuter du rôle, et l'information est officialisée le 11 septembre 2003. A partir de là, tout s'enchaîne et le nouveau Bruce Wayne trouve rapidement son majordome : approché pour incarner Alfred Pennyworth, avec une vraie offre à la clé, Anthony Hopkins refuse, ce qui fait les affaires de Michael Caine, convaincu par sa rencontre avec le metteur en scène, dont il deviendra l'un des acteurs fétiches.\n",
      "Créé pour les besoins du film, le personnage de Rachel Dawes était incarné par Amy Adams sur l'essai en vidéo de Christian Bale, mais c'est Katie Holmes que David S. Goyer et Christopher Nolan, qui aimait son côté \"girl next-door\", avaient en tête pendant l'écriture, non sans avoir pensé à Claire Danes et Reese Witherspoon comme solutions de secours. Mais l'ex-Joey Potter de Dawson accepte et rejoint officiellement le casting en décembre 2003, quelques heures seulement avant… Cillian Murphy. Comme Heath Ledger, la révélation de 28 jours plus tard n'a pas convaincu en Batman, mais a assez séduit le metteur en scène pour qu'il lui confie un rôle de méchant : celui de Jonathan Crane, alias l'Épouvantail, antagoniste jusqu'ici inédit sur grand écran, et dont Christopher Eccleston, Ewan McGregor ou Marilyn Manson auraient pu s'emparer.\n",
      "Mis en pause pour les fêtes de fin d'année, le casting reprend de plus belle en janvier 2004 : tout en admettant ne pas connaître le personnage, alors qu'il lit des comic books depuis l'âge de neuf ans, Morgan Freeman décroche le rôle de Lucius Fox, allié de l'Homme Chauve-Souris pour lequel Laurence Fishburne avait été envisagé ; révélé quelques mois plus tôt par Le Dernier Samouraï, Ken Watanabe devient le premier interprète de Ra's Al Ghul sur grand écran ; et Liam Neeson est engagé pour incarner Henri Ducard, mentor de Bruce Wayne créé par Sam Hamm, le scénariste du Batman de 1989, avant d'être laissé de côté pour mieux naître sur papier. Alors que Guy Pearce a été jugé trop jeune, que Daniel Day-Lewis a été approché et que Viggo Mortensen a refusé, l'acteur irlandais rejoint l'aventure et se retrouve au cœur de la toute première scène mise en boîte, le 3 mars 2004 en Islande.\n",
      "Mais il reste, à ce moment-là, encore une inconnue : qui va donc jouer le futur Commissaire Gordon ? Kurt Russell ? Dennis Quaid ? Non, Christopher Nolan se tourne vers l'oscarisé Chris Cooper, qui refuse car cherchant alors à passer plus de temps vers sa famille. La solution, pour le réalisateur, se trouve du côté d'un acteur auquel il avait pensé pour un rôle de méchant (et que l'on voit souvent jouer ce type de personnage), à savoir Gary Oldman. Ce dernier accepte, sans même lire une ligne du scénario, ce qui ressemble presque à un contre-emploi, et c'est sur le chemin du plateau qu'il lira et apprendra ses dialogues. En attendant, il rejoint officiellement le casting le jour du premier coup de manivelle. Influencé par l'adaptation des X-Men par Bryan Singer, le cinéaste a également projeté Blade Runner (dont il engage l'un des comédiens, Rutger Hauer) à son équipe en amont des prises de vues, avant de leur dire \"C'est comme cela que nous allons faire Batman.\"\n",
      "Pendant cent-vingt-neuf jours, jusqu'au 17 septembre, il supervise lui-même chacun des plans tournés, refusant déjà de faire appel à une seconde équipe. Un souci du détail que l'on retrouve également dans sa volonté de limiter au maximum les effets numériques, et Batman Begins devient ainsi le premier film de la franchise depuis la scène de la jetée dans le long métrage de 1966 à être tourné dans les rues d'une vraie ville. Ou plutôt deux, car c'est à Londres et Chicago que Nolan a donné naissance à sa version de Gotham City, envisagée comme un \"New York sous stéroïdes\" dotée d'une ambiance poisseuse dans laquelle l'influence de Blade Runner se fait ressentir. Une entreprise à l'origine d'un drôle d'incident sur le tournage, lorsqu'un conducteur en état d'ébriété à heurté la Batmobile avant de s'enfuir en croyant voir un vaisseau extra-terrestre. Il faut dire que le look du véhicule, révélé pendant les prises de vues, en a surpris plus d'un : surnommé \"Tumbler\", il s'inspire du design vu dans \"The Dark Knight Returns\" de Frank Miller, et ressemble davantage à un tank qu'aux bolides longilignes des films précédents.\n",
      "Comme les gadgets et la tenue de l'Homme Chauve-Souris (cape incluse), la Batmobile est crée à partir de technologies militaires existantes, ce qui traduit la volonté d'ancrer la mythologie de Batman dans notre réalité. Réparti entre décors naturels et studio (où la Batcave est intégralement crée, sans recours à divers trucages), le tournage est bien plus tranquille pour Christopher Nolan qu'il ne l'avait été pour Tim Burton (nerveux et confronté à la pression des fans et des producteurs ainsi qu'à des caprices de stars), et se déroule sans encombre. Sauf pour Christian Bale, qui a connu quelques soucis physiques en amont des prises de vues : au moment des auditions, il sortait de The Machinist, thriller pour lequel il avait perdu vingt-huit kilos et était donc trop maigre pour incarner Batman. Une fois engagé, son réalisateur lui a demandé de devenir \"aussi gros que possible\", et l'acteur a ainsi atteint les cent kilos (soient dix-huit de plus que son poids normal) à l'issue d'un régime long de six mois… mais s'est révélé trop épais pour le rôle et a donc dû en perdre neuf le plus rapidement possible, pour se sculpter une silhouette plus fine et musclée. S'il deviendra coutumier de ce type de performance (Fighter, American Bluff, Vice…), le Gallois avoue avoir vécu l'expérience comme une contrainte insupportable.\n",
      "Une fois sur le plateau, les choses se passent mieux et la star d'American Psycho, dans lequel il jouait un certain Bateman, réalise lui-même la majorité de ses cascades même s'il se voit refuser de piloter la Batmobile. Comme Michael Keaton avant lui, il parvient également à tirer profit des inconvénients du costume, qu'il juge très incofortable (et sera d'ailleurs modifié dans la suite, The Dark Knight) et déteste ouvertement, car celui-ci l'aide à capturer le côté monstrueux de son Chevalier Noir, en le mettant d'humeur massacrante. La colère dont il fait preuve à l'écran une fois en tenue n'est donc pas totalement feinte, et cela l'a sans doute aidé à trouvé sa voix de Batman, profonde et agressive, même s'il a perdu la sienne par trois fois tout au long des prises de vues, qui s'achèvent le 17 septembre 2004. Quelques mois plus tôt, le nouveau look du héros ainsi qu'un premier teaser efficace ont été dévoilés, afin d'annoncer la couleur, et plutôt bien accueillis. De quoi donner un peu de confiance à la Warner qui, cet été-là, essuie un véritable échec avec Catwoman, descendu en flèche par la critique et boudé par les spectateurs, au point de ne rapporter que 82,1 millions de dollars dans le monde (dont 40 pour les seuls États-Unis), pour un budget de 100.\n",
      "Une catastrophe en forme de point de non-retour, qui rappelle que le succès des super-héros n'est pas automatiquement assuré et met en lumière les qualités des réussites récentes telles que X-Men, Spider-Man et leurs suites respectives. Et qui va jouer en faveur de Batman Begins, qui sort le 15 juin 2005 dans les salles françaises et américaines, et est à l'image de ce que la promo a dévoilé jusque-là : beaucoup plus sombre et psychologique que les opus de Joel Schumacher. Mais pas au point de se couper d'une partie du public, car Christopher Nolan a tenu à ne rien filmer de gore ou sanglant, pour que son film soit visible par tous. Ou presque : \"Pas les plus jeunes évidemment, car je pense que ce que nous avons fait est un peu trop intense pour eux, mais je ne tiens pas à exclure les 10-12 ans car, étant enfant, j'aurais adoré voir un film comme celui-ci\", explique le metteur en scène. Classé PG-13 outre-Atlantique (interdit aux moins de 13 ans non accompagnés), le long métrage séduit les critiques avec un moyenne de 3,7 sur 5 sur AlloCiné (sur vingt-quatre supports) et 70 sur 100 sur Metacritic. Un tout petit peu mieux que les 69 des débuts du duo Tim Burton - Michael Keaton en 1989 donc.\n",
      "Malgré des dialogues parfois sur-explicatifs, défaut récurrent des blockbusters destinés au grand public, Batman Begins séduit notamment grâce à ce qui deviendra la marque de fabrique de Christopher Nolan : un mélange d'ambition et de respect des spectateurs, qu'il sait captiver grâce à sa narration, se permettant ainsi d'attendre une heure avant de faire apparaître le héros en costume. Tout n'est pourtant pas parfait, car le récit connaît quelques baisses de rythme, le cinéaste n'est pas encore totalement à l'aise avec le découpage et la lisibilité des scènes d'action, et Ra's Al Ghul ne se révèle pas aussi charismatique que prévu, même si son immortalité est expliquée grâce à une belle astuce lui permettant de s'inscrire davantage dans l'après-11-Septembre, lorsqu'il est question d'un ennemi qui frappe les États-Unis de l'intérieur et dont les idées survivent aux changements de leader. Tiraillé entre justice et vengeance, l'Homme Chauve-Souris devient alors une incarnation de l'Amérique du début des années 2000, en équilibre sur la ligne qui sépare le Bien et le Mal, avec Alfred Pennyworth en guise de boussole morale qui peine parfois à indiquer le Nord à son maître.\n",
      "A travers ces questionnements très actuels, Christopher Nolan dresse des parallèles entre le héros et les méchants, et c'est ainsi que Batman se sert de la peur comme d'une arme, au même titre que l'Épouvantail, antagoniste plus réussi et ambivalent auquel Cillian Murphy prête ses traits. Le fait que l'acteur ait été en lice pour jouer l'Homme Chauve-Souris favorise également ce rapprochement, et la fascination du réalisateur pour le comédien irlandais, que l'on retrouvera dans les épisodes suivants, se voit notamment dans les moments où Jonathan Crane enlève ses lunettes, afin de permettre au public de mieux voir ces yeux bleus sur lesquels le cinéaste aurait flashé pendant les auditions. Comme Bruce Wayne, c'est lorsqu'il revêt un masque que sa vraie nature se révèle même si, dans son cas, c'est grâce à l'insistance du co-scénariste David S. Goyer qu'il a pu en porter un, car metteur en scène n'en voulait initialement pas.\n",
      "Emmené par un Christian Bale impliqué, animal, crédible et qui concentre une bonne partie des louanges reçues, Batman Begins ne met donc pas longtemps à imposer son style réaliste, qui lui permet de se démarquer des opus précédents dont il ne reprend aucun des méchants, à la fois pour éviter les comparaisons et, peut-être, éviter de griller une trop grosse cartouche d'entrée de jeu si le résultat devait ne pas prendre. Derrière la caméra, Christopher Nolan reste fidèle à certaines de ses obsessions entrevues jusque-là, et notamment le film noir que l'on retrouve dans les segments impliquant les bas-fonds de Gotham City, le mafieux Carmine Falcone (Tom Wilkinson), les policiers corrompus ou encore la scène de poursuite en voiture où l'influence avouée de French Connection se fait ressentir. Accompagné par le thème épique signé Hans Zimmer et James Newton Howard, ce premier vol de la chauve-souris s'avère convaincant, et les fans sont aux anges face à la dernière scène, qui annonce l'arrivée du Joker dans une suite rapidement validée, malgré des résultats légèrement décevants au box-office.\n",
      "S'il démarre en tête sur le sol américain, il n'y rapporte \"que\" 202,3 millions de dollars, et en cumule 371,9 dans le monde. A titre de comparaison, les deux Spider-Man en ont respectivement engrangé 825 et 789. En France, il fait un tout petit peu mieux que Batman & Robin, avec 1 506 332 million d'entrées contre 1 369 087. Il ne faut pourtant pas s'arrêter à ces seuls chiffres, que l'on aurait certes pu imaginer plus élevés. Car le succès de Batman Begins était loin d'être acquis, et son objectif était aussi de redorer le blason de l'Homme Chauve-Souris, mis à mal par les clowneries de Joel Schumacher huit ans plus tôt. Sur ce plan, l'entreprise est une réussite : Tim Burton et Michael Keaton ont avoué avoir été très impressionné par le long métrage, qui a également tapé dans l'œil des producteurs de James Bond. Comme le super-héros, l'agent 007 avait lui aussi sombré dans le grand n'importe quoi quelques années plus tôt, et c'est en voyant l'opus de Christopher Nolan (en plus des Jason Bourne), que Barbara Broccoli et Michael G. Wilson ont eu l'idée d'opter, eux aussi, pour une approche plus sombre et réaliste avec le reboot Casino Royale.\n",
      "Nommé pour l'Oscar de la Meilleure Photo en 2006, Batman Begins connaîtra deux suites grâce auxquelles le réalisateur transformera l'essai, en termes de qualité et de succès : The Dark Knight poursuit sa réflexion sur l'Amérique d'alors et revisite la figure du Joker avec le regretté Heath Ledger, oscarisé à titre posthume pour son incroyable prestation ; et The Dark Knight Rises clôt l'histoire et résonne encore dans sa manière d'évoquer les inégalités sociales. Deux longs métrages qui ont fait tomber quelques records et franchi le cap du milliard de dollars de recettes dans le monde, et une trilogie qui compte, aujourd'hui encore, parmi les plus réussies de l'Histoire du cinéma. Régulièrement citée lorsque l'on parle des réalisateurs capables de développer un vrai propos dans un blockbuster, elle a aussi fait figure d'exemple à suivre pour plusieurs grosses productions (The Amazing Spider-Man en tête), jusqu'à ce que le Marvel Cinematic Universe n'impose son style, plus léger et coloré. Mais Kevin Feige et les siens se seraient-ils lancés de la sorte si Christopher Nolan n'avait pas concourru à remettre les super-héros sur le devant de la scène ?\n",
      "Malgré les critiques reçues par Batman v Superman et l'échec en salles de Justice League, où Zack Snyder s'inspirait lui aussi de Frank Miller pour son Homme Chauve-Souris incarné par Ben Affleck et abordait ses actes de justicier avec sérieux et à travers le prisme de l'après-11-Septembre, le héros est bien redevenu une valeur sûre du grand écran, à tel point que sa prochaine aventure ciné, signée Matt Reeves avec Robert Pattinson dans le rôle principal, fait d'ores et déjà partie des films les plus attendus de 2021. Avec un défi de taille à relever, car ça n'est pas aux opus de Joel Schumacher qu'il lui faudra se mesurer, mais bien à la trilogie de Christopher Nolan, qui n'a rien perdu de son aura en l'espace de quinze ans.\n",
      "La bande-originale de \"Batman Begins\" :\n",
      "\n"
     ]
    }
   ],
   "source": [
    "print('\\n'.join([i.text for i in soup.select('#article-container p')]))"
   ]
  },
  {
   "cell_type": "code",
   "execution_count": 31,
   "metadata": {},
   "outputs": [
    {
     "data": {
      "text/plain": [
       "['http://fr.web.img3.acsta.net/commons/v9/allocine/logo-custom/logo-allezocine-220x37.gif',\n",
       " 'http://fr.web.img6.acsta.net/commons/v9/allocine/logo-custom/logo-allezocine.svg',\n",
       " '',\n",
       " '',\n",
       " 'http://fr.web.img3.acsta.net/r_640_360/newsv7/20/06/15/15/08/4629294.jpg',\n",
       " 'data:image/gif;base64,R0lGODlhAQABAIAAAAAAAAAAACH5BAEAAAAALAAAAAABAAEAAAICRAEAOw==',\n",
       " 'data:image/gif;base64,R0lGODlhAQABAIAAAAAAAAAAACH5BAEAAAAALAAAAAABAAEAAAICRAEAOw==',\n",
       " 'data:image/gif;base64,R0lGODlhEAAJAIAAAAAAAAAAACH5BAEAAAAALAAAAAAQAAkAAAIKhI+py+0Po5yUFQA7',\n",
       " 'data:image/gif;base64,R0lGODlhAQABAIAAAAAAAAAAACH5BAEAAAAALAAAAAABAAEAAAICRAEAOw==',\n",
       " 'data:image/gif;base64,R0lGODlhAwAEAIAAAAAAAAAAACH5BAEAAAAALAAAAAADAAQAAAIDhI9WADs=',\n",
       " 'data:image/gif;base64,R0lGODlhAwAEAIAAAAAAAAAAACH5BAEAAAAALAAAAAADAAQAAAIDhI9WADs=',\n",
       " 'data:image/gif;base64,R0lGODlhAwAEAIAAAAAAAAAAACH5BAEAAAAALAAAAAADAAQAAAIDhI9WADs=',\n",
       " 'data:image/gif;base64,R0lGODlhAwAEAIAAAAAAAAAAACH5BAEAAAAALAAAAAADAAQAAAIDhI9WADs=',\n",
       " 'data:image/gif;base64,R0lGODlhAwAEAIAAAAAAAAAAACH5BAEAAAAALAAAAAADAAQAAAIDhI9WADs=',\n",
       " 'data:image/gif;base64,R0lGODlhAwAEAIAAAAAAAAAAACH5BAEAAAAALAAAAAADAAQAAAIDhI9WADs=',\n",
       " 'data:image/gif;base64,R0lGODlhEAAJAIAAAAAAAAAAACH5BAEAAAAALAAAAAAQAAkAAAIKhI+py+0Po5yUFQA7',\n",
       " 'data:image/gif;base64,R0lGODlhEAAJAIAAAAAAAAAAACH5BAEAAAAALAAAAAAQAAkAAAIKhI+py+0Po5yUFQA7',\n",
       " 'data:image/gif;base64,R0lGODlhEAAJAIAAAAAAAAAAACH5BAEAAAAALAAAAAAQAAkAAAIKhI+py+0Po5yUFQA7',\n",
       " 'data:image/gif;base64,R0lGODlhEAAJAIAAAAAAAAAAACH5BAEAAAAALAAAAAAQAAkAAAIKhI+py+0Po5yUFQA7',\n",
       " 'data:image/gif;base64,R0lGODlhAwAEAIAAAAAAAAAAACH5BAEAAAAALAAAAAADAAQAAAIDhI9WADs=']"
      ]
     },
     "execution_count": 31,
     "metadata": {},
     "output_type": "execute_result"
    }
   ],
   "source": [
    "[i['src'] for i in soup.select('img')]"
   ]
  },
  {
   "cell_type": "code",
   "execution_count": 32,
   "metadata": {},
   "outputs": [],
   "source": [
    "url='https://www.reuters.com/article/us-israel-palestinians-europe/lawmakers-in-europe-call-on-israel-to-ditch-annexation-plans-idUSKBN23V1UR?il=0'"
   ]
  },
  {
   "cell_type": "code",
   "execution_count": 33,
   "metadata": {},
   "outputs": [],
   "source": [
    "resp=r.get(url)"
   ]
  },
  {
   "cell_type": "code",
   "execution_count": 34,
   "metadata": {},
   "outputs": [],
   "source": [
    "soup=BeautifulSoup(resp.content)"
   ]
  },
  {
   "cell_type": "code",
   "execution_count": 36,
   "metadata": {},
   "outputs": [
    {
     "data": {
      "text/plain": [
       "[<h1 class=\"ArticleHeader_headline\">Lawmakers in Europe call on Israel to ditch annexation plans</h1>]"
      ]
     },
     "execution_count": 36,
     "metadata": {},
     "output_type": "execute_result"
    }
   ],
   "source": [
    "soup.select('h1')"
   ]
  },
  {
   "cell_type": "code",
   "execution_count": 37,
   "metadata": {
    "collapsed": true
   },
   "outputs": [
    {
     "data": {
      "text/plain": [
       "[<h1 class=\"ArticleHeader_headline\">Lawmakers in Europe call on Israel to ditch annexation plans</h1>,\n",
       " <p class=\"BylineBar_reading-time\" style=\"color:undefined\">3 Min Read</p>,\n",
       " <p>BRUSSELS/LONDON (Reuters) - Any Israeli move to annex parts of the West Bank would be “fatal” for Middle East peace hopes and must be prevented, if necessary with countermeasures, more than 1,000 lawmakers from across Europe said in a letter to European governments. </p>,\n",
       " <p>The June 23 letter, signed by 1,080 lawmakers from 25 countries and made public on Wednesday, raises parliamentary concerns about U.S. President Donald Trump’s Israeli-Palestinian peace plan. The signatories said annexation would break international law. </p>,\n",
       " <p>Israeli Prime Minister Benjamin Netanyahu has set July 1 as the date for the start of cabinet discussions on moving forward on annexation, in line with Trump’s plan that envisages Israeli sovereignty over 30% of the West Bank and Palestinian statehood under strict conditions.   </p>,\n",
       " <p>“Such a move (annexation) will be fatal to the prospects of Israeli-Palestinian peace and will challenge the most basic norms guiding international relations,” the letter said. </p>,\n",
       " <p>“Acquisition of territory by force has no place in 2020,” said the lawmakers, who included members of parliament from Hungary and the Czech Republic, two countries sympathetic to Israel and to Trump’s Jan. 28 peace plan. </p>,\n",
       " <p>The plan offers U.S. recognition of Israel’s settlements dotted across the West Bank, and Israeli sovereignty over the Jordan Valley — land captured in the 1967 Middle East war and claimed by Palestinians for a future state.  </p>,\n",
       " <p>Israeli-Palestinian peace talks collapsed in 2014 and the Palestinians see annexations as an illegal land grab. </p>,\n",
       " <p>The United Nations Security Council has said settlements violate international law. Israel disputes this, citing biblical, historical and political connections to the land. </p>,\n",
       " <p>The European lawmakers called for “commensurate consequences” if Israel, which has more than 400,000 settlers in the West Bank, went ahead with annexation — a reference to possible economic, trade or other sanctions. </p>,\n",
       " <p>“Failure to adequately respond would encourage other states with territorial claims,” the letter said. </p>,\n",
       " <p>Netanyahu has dismissed criticism of the annexation plans. He says that extending Israeli sovereignty to Jewish settlements in the West Bank will bring peace closer once critics of the move recognise that hundreds of thousands of settlers in the area will remain under any future deal. </p>,\n",
       " <p>Internal documents and Reuters interviews with more than two dozen diplomats and officials showed there is no clear EU strategy on how to stop Israel’s plan or how to respond in a meaningful way if annexation goes ahead. </p>,\n",
       " <p class=\"Attribution_content\">Editing by Timothy Heritage</p>,\n",
       " <p><span>All quotes delayed a minimum of 15 minutes. See </span><a href=\"//www.reuters.com/info/disclaimer\" target=\"_blank\">here for a complete list</a><span> of exchanges and delays.</span></p>,\n",
       " <p><a href=\"//www.thomsonreuters.com/en/policies/copyright.html\" target=\"_blank\"><span>© <!-- -->2020<!-- --> </span><span>Reuters. All Rights Reserved.</span></a></p>]"
      ]
     },
     "execution_count": 37,
     "metadata": {},
     "output_type": "execute_result"
    }
   ],
   "source": [
    "soup.select('h1,p')"
   ]
  },
  {
   "cell_type": "code",
   "execution_count": 38,
   "metadata": {
    "collapsed": true
   },
   "outputs": [
    {
     "data": {
      "text/plain": [
       "[<h1 class=\"ArticleHeader_headline\">Lawmakers in Europe call on Israel to ditch annexation plans</h1>,\n",
       " <p class=\"BylineBar_reading-time\" style=\"color:undefined\">3 Min Read</p>,\n",
       " <p>BRUSSELS/LONDON (Reuters) - Any Israeli move to annex parts of the West Bank would be “fatal” for Middle East peace hopes and must be prevented, if necessary with countermeasures, more than 1,000 lawmakers from across Europe said in a letter to European governments. </p>,\n",
       " <p>The June 23 letter, signed by 1,080 lawmakers from 25 countries and made public on Wednesday, raises parliamentary concerns about U.S. President Donald Trump’s Israeli-Palestinian peace plan. The signatories said annexation would break international law. </p>,\n",
       " <p>Israeli Prime Minister Benjamin Netanyahu has set July 1 as the date for the start of cabinet discussions on moving forward on annexation, in line with Trump’s plan that envisages Israeli sovereignty over 30% of the West Bank and Palestinian statehood under strict conditions.   </p>,\n",
       " <p>“Such a move (annexation) will be fatal to the prospects of Israeli-Palestinian peace and will challenge the most basic norms guiding international relations,” the letter said. </p>,\n",
       " <p>“Acquisition of territory by force has no place in 2020,” said the lawmakers, who included members of parliament from Hungary and the Czech Republic, two countries sympathetic to Israel and to Trump’s Jan. 28 peace plan. </p>,\n",
       " <p>The plan offers U.S. recognition of Israel’s settlements dotted across the West Bank, and Israeli sovereignty over the Jordan Valley — land captured in the 1967 Middle East war and claimed by Palestinians for a future state.  </p>,\n",
       " <p>Israeli-Palestinian peace talks collapsed in 2014 and the Palestinians see annexations as an illegal land grab. </p>,\n",
       " <p>The United Nations Security Council has said settlements violate international law. Israel disputes this, citing biblical, historical and political connections to the land. </p>,\n",
       " <p>The European lawmakers called for “commensurate consequences” if Israel, which has more than 400,000 settlers in the West Bank, went ahead with annexation — a reference to possible economic, trade or other sanctions. </p>,\n",
       " <p>“Failure to adequately respond would encourage other states with territorial claims,” the letter said. </p>,\n",
       " <p>Netanyahu has dismissed criticism of the annexation plans. He says that extending Israeli sovereignty to Jewish settlements in the West Bank will bring peace closer once critics of the move recognise that hundreds of thousands of settlers in the area will remain under any future deal. </p>,\n",
       " <p>Internal documents and Reuters interviews with more than two dozen diplomats and officials showed there is no clear EU strategy on how to stop Israel’s plan or how to respond in a meaningful way if annexation goes ahead. </p>,\n",
       " <p class=\"Attribution_content\">Editing by Timothy Heritage</p>,\n",
       " <p><span>All quotes delayed a minimum of 15 minutes. See </span><a href=\"//www.reuters.com/info/disclaimer\" target=\"_blank\">here for a complete list</a><span> of exchanges and delays.</span></p>,\n",
       " <p><a href=\"//www.thomsonreuters.com/en/policies/copyright.html\" target=\"_blank\"><span>© <!-- -->2020<!-- --> </span><span>Reuters. All Rights Reserved.</span></a></p>]"
      ]
     },
     "execution_count": 38,
     "metadata": {},
     "output_type": "execute_result"
    }
   ],
   "source": [
    "soup.find_all(['h1','h2','p'])"
   ]
  },
  {
   "cell_type": "code",
   "execution_count": 41,
   "metadata": {},
   "outputs": [],
   "source": [
    "los=[f'h{i}' for i in range(1,8)]+['p']"
   ]
  },
  {
   "cell_type": "code",
   "execution_count": 42,
   "metadata": {
    "collapsed": true
   },
   "outputs": [
    {
     "data": {
      "text/plain": [
       "[<h1 class=\"ArticleHeader_headline\">Lawmakers in Europe call on Israel to ditch annexation plans</h1>,\n",
       " <p class=\"BylineBar_reading-time\" style=\"color:undefined\">3 Min Read</p>,\n",
       " <p>BRUSSELS/LONDON (Reuters) - Any Israeli move to annex parts of the West Bank would be “fatal” for Middle East peace hopes and must be prevented, if necessary with countermeasures, more than 1,000 lawmakers from across Europe said in a letter to European governments. </p>,\n",
       " <p>The June 23 letter, signed by 1,080 lawmakers from 25 countries and made public on Wednesday, raises parliamentary concerns about U.S. President Donald Trump’s Israeli-Palestinian peace plan. The signatories said annexation would break international law. </p>,\n",
       " <p>Israeli Prime Minister Benjamin Netanyahu has set July 1 as the date for the start of cabinet discussions on moving forward on annexation, in line with Trump’s plan that envisages Israeli sovereignty over 30% of the West Bank and Palestinian statehood under strict conditions.   </p>,\n",
       " <p>“Such a move (annexation) will be fatal to the prospects of Israeli-Palestinian peace and will challenge the most basic norms guiding international relations,” the letter said. </p>,\n",
       " <p>“Acquisition of territory by force has no place in 2020,” said the lawmakers, who included members of parliament from Hungary and the Czech Republic, two countries sympathetic to Israel and to Trump’s Jan. 28 peace plan. </p>,\n",
       " <p>The plan offers U.S. recognition of Israel’s settlements dotted across the West Bank, and Israeli sovereignty over the Jordan Valley — land captured in the 1967 Middle East war and claimed by Palestinians for a future state.  </p>,\n",
       " <p>Israeli-Palestinian peace talks collapsed in 2014 and the Palestinians see annexations as an illegal land grab. </p>,\n",
       " <p>The United Nations Security Council has said settlements violate international law. Israel disputes this, citing biblical, historical and political connections to the land. </p>,\n",
       " <p>The European lawmakers called for “commensurate consequences” if Israel, which has more than 400,000 settlers in the West Bank, went ahead with annexation — a reference to possible economic, trade or other sanctions. </p>,\n",
       " <p>“Failure to adequately respond would encourage other states with territorial claims,” the letter said. </p>,\n",
       " <p>Netanyahu has dismissed criticism of the annexation plans. He says that extending Israeli sovereignty to Jewish settlements in the West Bank will bring peace closer once critics of the move recognise that hundreds of thousands of settlers in the area will remain under any future deal. </p>,\n",
       " <p>Internal documents and Reuters interviews with more than two dozen diplomats and officials showed there is no clear EU strategy on how to stop Israel’s plan or how to respond in a meaningful way if annexation goes ahead. </p>,\n",
       " <p class=\"Attribution_content\">Editing by Timothy Heritage</p>,\n",
       " <p><span>All quotes delayed a minimum of 15 minutes. See </span><a href=\"//www.reuters.com/info/disclaimer\" target=\"_blank\">here for a complete list</a><span> of exchanges and delays.</span></p>,\n",
       " <p><a href=\"//www.thomsonreuters.com/en/policies/copyright.html\" target=\"_blank\"><span>© <!-- -->2020<!-- --> </span><span>Reuters. All Rights Reserved.</span></a></p>]"
      ]
     },
     "execution_count": 42,
     "metadata": {},
     "output_type": "execute_result"
    }
   ],
   "source": [
    "soup.find_all(los)"
   ]
  },
  {
   "cell_type": "code",
   "execution_count": 43,
   "metadata": {},
   "outputs": [
    {
     "data": {
      "text/plain": [
       "[<h1 class=\"ArticleHeader_headline\">Lawmakers in Europe call on Israel to ditch annexation plans</h1>]"
      ]
     },
     "execution_count": 43,
     "metadata": {},
     "output_type": "execute_result"
    }
   ],
   "source": [
    "soup.find_all('h1')"
   ]
  },
  {
   "cell_type": "code",
   "execution_count": 44,
   "metadata": {},
   "outputs": [
    {
     "data": {
      "text/plain": [
       "[]"
      ]
     },
     "execution_count": 44,
     "metadata": {},
     "output_type": "execute_result"
    }
   ],
   "source": [
    "soup.find_all('h1.ArticleHeader_headline')"
   ]
  },
  {
   "cell_type": "code",
   "execution_count": 45,
   "metadata": {},
   "outputs": [
    {
     "data": {
      "text/plain": [
       "[<h1 class=\"ArticleHeader_headline\">Lawmakers in Europe call on Israel to ditch annexation plans</h1>]"
      ]
     },
     "execution_count": 45,
     "metadata": {},
     "output_type": "execute_result"
    }
   ],
   "source": [
    "soup.find_all('h1', {'class':'ArticleHeader_headline'})"
   ]
  },
  {
   "cell_type": "code",
   "execution_count": 46,
   "metadata": {},
   "outputs": [],
   "source": [
    "url=\"https://en.wikipedia.org/wiki/List_of_European_countries_by_life_expectancy\""
   ]
  },
  {
   "cell_type": "code",
   "execution_count": 47,
   "metadata": {},
   "outputs": [],
   "source": [
    "soup=BeautifulSoup(r.get(url).content)"
   ]
  },
  {
   "cell_type": "code",
   "execution_count": 53,
   "metadata": {},
   "outputs": [],
   "source": [
    "table=soup.select('table.sortable')[0]"
   ]
  },
  {
   "cell_type": "code",
   "execution_count": 63,
   "metadata": {},
   "outputs": [],
   "source": [
    "ll=[[i.text.strip('\\n\\xa0') for i in row.find_all(['td','th'])] for row in table.find_all('tr')]"
   ]
  },
  {
   "cell_type": "code",
   "execution_count": 64,
   "metadata": {},
   "outputs": [],
   "source": [
    "import pandas as pd"
   ]
  },
  {
   "cell_type": "code",
   "execution_count": 71,
   "metadata": {},
   "outputs": [
    {
     "data": {
      "text/html": [
       "<div>\n",
       "<style scoped>\n",
       "    .dataframe tbody tr th:only-of-type {\n",
       "        vertical-align: middle;\n",
       "    }\n",
       "\n",
       "    .dataframe tbody tr th {\n",
       "        vertical-align: top;\n",
       "    }\n",
       "\n",
       "    .dataframe thead th {\n",
       "        text-align: right;\n",
       "    }\n",
       "</style>\n",
       "<table border=\"1\" class=\"dataframe\">\n",
       "  <thead>\n",
       "    <tr style=\"text-align: right;\">\n",
       "      <th></th>\n",
       "      <th>Country</th>\n",
       "      <th>Life expectancy[1]</th>\n",
       "    </tr>\n",
       "    <tr>\n",
       "      <th>Rank</th>\n",
       "      <th></th>\n",
       "      <th></th>\n",
       "    </tr>\n",
       "  </thead>\n",
       "  <tbody>\n",
       "    <tr>\n",
       "      <th>1</th>\n",
       "      <td>Monaco[2]</td>\n",
       "      <td>89.4</td>\n",
       "    </tr>\n",
       "    <tr>\n",
       "      <th>2</th>\n",
       "      <td>San Marino[3]</td>\n",
       "      <td>83.4</td>\n",
       "    </tr>\n",
       "    <tr>\n",
       "      <th>3</th>\n",
       "      <td>Switzerland</td>\n",
       "      <td>83.0</td>\n",
       "    </tr>\n",
       "    <tr>\n",
       "      <th>4</th>\n",
       "      <td>Spain</td>\n",
       "      <td>82.8</td>\n",
       "    </tr>\n",
       "    <tr>\n",
       "      <th>5</th>\n",
       "      <td>Liechtenstein</td>\n",
       "      <td>82.7</td>\n",
       "    </tr>\n",
       "    <tr>\n",
       "      <th>6</th>\n",
       "      <td>Italy</td>\n",
       "      <td>82.7</td>\n",
       "    </tr>\n",
       "    <tr>\n",
       "      <th>7</th>\n",
       "      <td>Norway</td>\n",
       "      <td>82.5</td>\n",
       "    </tr>\n",
       "    <tr>\n",
       "      <th>8</th>\n",
       "      <td>Iceland</td>\n",
       "      <td>82.5</td>\n",
       "    </tr>\n",
       "    <tr>\n",
       "      <th>9</th>\n",
       "      <td>Luxembourg</td>\n",
       "      <td>82.3</td>\n",
       "    </tr>\n",
       "    <tr>\n",
       "      <th>10</th>\n",
       "      <td>France</td>\n",
       "      <td>82.3</td>\n",
       "    </tr>\n",
       "    <tr>\n",
       "      <th>11</th>\n",
       "      <td>Sweden</td>\n",
       "      <td>82.2</td>\n",
       "    </tr>\n",
       "    <tr>\n",
       "      <th>12</th>\n",
       "      <td>Malta</td>\n",
       "      <td>81.8</td>\n",
       "    </tr>\n",
       "    <tr>\n",
       "      <th>13</th>\n",
       "      <td>Finland</td>\n",
       "      <td>81.8</td>\n",
       "    </tr>\n",
       "    <tr>\n",
       "      <th>14</th>\n",
       "      <td>Ireland</td>\n",
       "      <td>81.6</td>\n",
       "    </tr>\n",
       "    <tr>\n",
       "      <th>15</th>\n",
       "      <td>Netherlands</td>\n",
       "      <td>81.5</td>\n",
       "    </tr>\n",
       "    <tr>\n",
       "      <th>16</th>\n",
       "      <td>Portugal</td>\n",
       "      <td>81.1</td>\n",
       "    </tr>\n",
       "    <tr>\n",
       "      <th>17</th>\n",
       "      <td>Greece</td>\n",
       "      <td>81.0</td>\n",
       "    </tr>\n",
       "    <tr>\n",
       "      <th>18</th>\n",
       "      <td>United Kingdom</td>\n",
       "      <td>81.0</td>\n",
       "    </tr>\n",
       "    <tr>\n",
       "      <th>19</th>\n",
       "      <td>Belgium</td>\n",
       "      <td>81.0</td>\n",
       "    </tr>\n",
       "    <tr>\n",
       "      <th>20</th>\n",
       "      <td>Austria</td>\n",
       "      <td>80.9</td>\n",
       "    </tr>\n",
       "    <tr>\n",
       "      <th>21</th>\n",
       "      <td>Slovenia</td>\n",
       "      <td>80.8</td>\n",
       "    </tr>\n",
       "    <tr>\n",
       "      <th>22</th>\n",
       "      <td>Denmark</td>\n",
       "      <td>80.7</td>\n",
       "    </tr>\n",
       "    <tr>\n",
       "      <th>23</th>\n",
       "      <td>Germany</td>\n",
       "      <td>80.6</td>\n",
       "    </tr>\n",
       "    <tr>\n",
       "      <th>24</th>\n",
       "      <td>Cyprus</td>\n",
       "      <td>80.5</td>\n",
       "    </tr>\n",
       "    <tr>\n",
       "      <th>25</th>\n",
       "      <td>Albania</td>\n",
       "      <td>78.3</td>\n",
       "    </tr>\n",
       "    <tr>\n",
       "      <th>26</th>\n",
       "      <td>Czech Republic</td>\n",
       "      <td>78.3</td>\n",
       "    </tr>\n",
       "    <tr>\n",
       "      <th>27</th>\n",
       "      <td>Croatia</td>\n",
       "      <td>78.0</td>\n",
       "    </tr>\n",
       "    <tr>\n",
       "      <th>28</th>\n",
       "      <td>Estonia</td>\n",
       "      <td>77.7</td>\n",
       "    </tr>\n",
       "    <tr>\n",
       "      <th>29</th>\n",
       "      <td>Poland</td>\n",
       "      <td>77.5</td>\n",
       "    </tr>\n",
       "    <tr>\n",
       "      <th>30</th>\n",
       "      <td>Montenegro</td>\n",
       "      <td>77.1</td>\n",
       "    </tr>\n",
       "    <tr>\n",
       "      <th>31</th>\n",
       "      <td>Bosnia and Herzegovina</td>\n",
       "      <td>76.9</td>\n",
       "    </tr>\n",
       "    <tr>\n",
       "      <th>32</th>\n",
       "      <td>Slovakia</td>\n",
       "      <td>76.6</td>\n",
       "    </tr>\n",
       "    <tr>\n",
       "      <th>33</th>\n",
       "      <td>Turkey</td>\n",
       "      <td>75.8</td>\n",
       "    </tr>\n",
       "    <tr>\n",
       "      <th>34</th>\n",
       "      <td>North Macedonia</td>\n",
       "      <td>75.7</td>\n",
       "    </tr>\n",
       "    <tr>\n",
       "      <th>35</th>\n",
       "      <td>Hungary</td>\n",
       "      <td>75.6</td>\n",
       "    </tr>\n",
       "    <tr>\n",
       "      <th>36</th>\n",
       "      <td>Serbia</td>\n",
       "      <td>75.2</td>\n",
       "    </tr>\n",
       "    <tr>\n",
       "      <th>37</th>\n",
       "      <td>Romania</td>\n",
       "      <td>75.0</td>\n",
       "    </tr>\n",
       "    <tr>\n",
       "      <th>38</th>\n",
       "      <td>Bulgaria</td>\n",
       "      <td>74.6</td>\n",
       "    </tr>\n",
       "    <tr>\n",
       "      <th>39</th>\n",
       "      <td>Latvia</td>\n",
       "      <td>74.5</td>\n",
       "    </tr>\n",
       "    <tr>\n",
       "      <th>40</th>\n",
       "      <td>Lithuania</td>\n",
       "      <td>74.3</td>\n",
       "    </tr>\n",
       "    <tr>\n",
       "      <th>41</th>\n",
       "      <td>Belarus</td>\n",
       "      <td>73.8</td>\n",
       "    </tr>\n",
       "    <tr>\n",
       "      <th>42</th>\n",
       "      <td>Kazakhstan</td>\n",
       "      <td>72.3</td>\n",
       "    </tr>\n",
       "    <tr>\n",
       "      <th>43</th>\n",
       "      <td>Moldova</td>\n",
       "      <td>71.6</td>\n",
       "    </tr>\n",
       "    <tr>\n",
       "      <th>44</th>\n",
       "      <td>Russia</td>\n",
       "      <td>71.6</td>\n",
       "    </tr>\n",
       "    <tr>\n",
       "      <th>45</th>\n",
       "      <td>Ukraine</td>\n",
       "      <td>71.5</td>\n",
       "    </tr>\n",
       "  </tbody>\n",
       "</table>\n",
       "</div>"
      ],
      "text/plain": [
       "                     Country Life expectancy[1]\n",
       "Rank                                           \n",
       "1                  Monaco[2]               89.4\n",
       "2              San Marino[3]               83.4\n",
       "3                Switzerland               83.0\n",
       "4                      Spain               82.8\n",
       "5              Liechtenstein               82.7\n",
       "6                      Italy               82.7\n",
       "7                     Norway               82.5\n",
       "8                    Iceland               82.5\n",
       "9                 Luxembourg               82.3\n",
       "10                    France               82.3\n",
       "11                    Sweden               82.2\n",
       "12                     Malta               81.8\n",
       "13                   Finland               81.8\n",
       "14                   Ireland               81.6\n",
       "15               Netherlands               81.5\n",
       "16                  Portugal               81.1\n",
       "17                    Greece               81.0\n",
       "18            United Kingdom               81.0\n",
       "19                   Belgium               81.0\n",
       "20                   Austria               80.9\n",
       "21                  Slovenia               80.8\n",
       "22                   Denmark               80.7\n",
       "23                   Germany               80.6\n",
       "24                    Cyprus               80.5\n",
       "25                   Albania               78.3\n",
       "26            Czech Republic               78.3\n",
       "27                   Croatia               78.0\n",
       "28                   Estonia               77.7\n",
       "29                    Poland               77.5\n",
       "30                Montenegro               77.1\n",
       "31    Bosnia and Herzegovina               76.9\n",
       "32                  Slovakia               76.6\n",
       "33                    Turkey               75.8\n",
       "34           North Macedonia               75.7\n",
       "35                   Hungary               75.6\n",
       "36                    Serbia               75.2\n",
       "37                   Romania               75.0\n",
       "38                  Bulgaria               74.6\n",
       "39                    Latvia               74.5\n",
       "40                 Lithuania               74.3\n",
       "41                   Belarus               73.8\n",
       "42                Kazakhstan               72.3\n",
       "43                   Moldova               71.6\n",
       "44                    Russia               71.6\n",
       "45                   Ukraine               71.5"
      ]
     },
     "execution_count": 71,
     "metadata": {},
     "output_type": "execute_result"
    }
   ],
   "source": [
    "pd.DataFrame(ll[1:],columns=ll[0]).set_index('Rank')"
   ]
  }
 ],
 "metadata": {
  "kernelspec": {
   "display_name": "Python 3",
   "language": "python",
   "name": "python3"
  },
  "language_info": {
   "codemirror_mode": {
    "name": "ipython",
    "version": 3
   },
   "file_extension": ".py",
   "mimetype": "text/x-python",
   "name": "python",
   "nbconvert_exporter": "python",
   "pygments_lexer": "ipython3",
   "version": "3.7.0"
  },
  "varInspector": {
   "cols": {
    "lenName": 16,
    "lenType": 16,
    "lenVar": 40
   },
   "kernels_config": {
    "python": {
     "delete_cmd_postfix": "",
     "delete_cmd_prefix": "del ",
     "library": "var_list.py",
     "varRefreshCmd": "print(var_dic_list())"
    },
    "r": {
     "delete_cmd_postfix": ") ",
     "delete_cmd_prefix": "rm(",
     "library": "var_list.r",
     "varRefreshCmd": "cat(var_dic_list()) "
    }
   },
   "types_to_exclude": [
    "module",
    "function",
    "builtin_function_or_method",
    "instance",
    "_Feature"
   ],
   "window_display": false
  }
 },
 "nbformat": 4,
 "nbformat_minor": 2
}
