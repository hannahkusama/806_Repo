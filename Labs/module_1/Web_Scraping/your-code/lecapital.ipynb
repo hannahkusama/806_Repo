{
 "cells": [
  {
   "cell_type": "code",
   "execution_count": 9,
   "metadata": {},
   "outputs": [],
   "source": [
    "url='http://www.allocine.fr/films/genre-13007/'"
   ]
  },
  {
   "cell_type": "code",
   "execution_count": 10,
   "metadata": {},
   "outputs": [],
   "source": [
    "import requests as r\n",
    "from bs4 import BeautifulSoup"
   ]
  },
  {
   "cell_type": "code",
   "execution_count": 11,
   "metadata": {},
   "outputs": [],
   "source": [
    "soup=BeautifulSoup(r.get(url).content)"
   ]
  },
  {
   "cell_type": "code",
   "execution_count": 12,
   "metadata": {},
   "outputs": [
    {
     "data": {
      "text/plain": [
       "[<a class=\"meta-title-link\" href=\"/film/fichefilm_gen_cfilm=247518.html\">Le Capital au XXIe siècle</a>,\n",
       " <a class=\"meta-title-link\" href=\"/film/fichefilm_gen_cfilm=276280.html\">Woman</a>,\n",
       " <a class=\"meta-title-link\" href=\"/film/fichefilm_gen_cfilm=278988.html\">Mon Nom est Clitoris</a>,\n",
       " <a class=\"meta-title-link\" href=\"/film/fichefilm_gen_cfilm=264298.html\">Be natural, l’histoire cachée d’Alice Guy-Blaché</a>,\n",
       " <a class=\"meta-title-link\" href=\"/film/fichefilm_gen_cfilm=273664.html\">Kongo</a>,\n",
       " <a class=\"meta-title-link\" href=\"/film/fichefilm_gen_cfilm=277563.html\">Si c’était de l’Amour</a>,\n",
       " <a class=\"meta-title-link\" href=\"/film/fichefilm_gen_cfilm=260996.html\">The Great Green Wall</a>,\n",
       " <a class=\"meta-title-link\" href=\"/film/fichefilm_gen_cfilm=278963.html\">La Cravate</a>,\n",
       " <a class=\"meta-title-link\" href=\"/film/fichefilm_gen_cfilm=174935.html\">Dirty Diaries</a>,\n",
       " <a class=\"meta-title-link\" href=\"/film/fichefilm_gen_cfilm=277880.html\">Thanatos, l’ultime passage</a>,\n",
       " <a class=\"meta-title-link\" href=\"/film/fichefilm_gen_cfilm=278523.html\">Visions Chamaniques : territoires oubliés</a>,\n",
       " <a class=\"meta-title-link\" href=\"/film/fichefilm_gen_cfilm=243117.html\">Merci Patron!</a>,\n",
       " <a class=\"meta-title-link\" href=\"/film/fichefilm_gen_cfilm=277723.html\">Cyrille, agriculteur, 30 ans, 20 vaches, du lait, du beurre, des dettes</a>,\n",
       " <a class=\"meta-title-link\" href=\"/film/fichefilm_gen_cfilm=268195.html\">Apollo 11</a>,\n",
       " <a class=\"meta-title-link\" href=\"/film/fichefilm_gen_cfilm=249783.html\">I Am Not Your Negro</a>]"
      ]
     },
     "execution_count": 12,
     "metadata": {},
     "output_type": "execute_result"
    }
   ],
   "source": [
    "soup.select('a.meta-title-link') "
   ]
  },
  {
   "cell_type": "code",
   "execution_count": 15,
   "metadata": {},
   "outputs": [
    {
     "data": {
      "text/plain": [
       "[]"
      ]
     },
     "execution_count": 15,
     "metadata": {},
     "output_type": "execute_result"
    }
   ],
   "source": [
    "soup.select('href') "
   ]
  },
  {
   "cell_type": "code",
   "execution_count": 17,
   "metadata": {},
   "outputs": [
    {
     "data": {
      "text/plain": [
       "15"
      ]
     },
     "execution_count": 17,
     "metadata": {},
     "output_type": "execute_result"
    }
   ],
   "source": [
    "len([i['href'] for i in soup.select('a.meta-title-link')])"
   ]
  },
  {
   "cell_type": "code",
   "execution_count": 19,
   "metadata": {},
   "outputs": [
    {
     "data": {
      "text/plain": [
       "[<div class=\"content-txt \">\n",
       "                       LE CAPITAL AU XXIE SIECLE est l’adaptation d’un des livres les plus importants de ces dernières années.En mélangeant références à la pop culture et interventions d’experts parmi les plus influents de notre époque, le film est un voyage à travers l’histoire moderne de nos sociétés. Il met en perspective la richesse et le pouvoir d’un côté, et de l’autre le progrès social et les inégalités.\n",
       "         \n",
       "             </div>, <div class=\"content-txt \">\n",
       "                       Ce documentaire est l’occasion de révéler au grand jour les injustices que subissent les femmes partout dans le monde. Mais avant tout, il souligne la force intérieure des femmes et leur capacité à changer le monde, en dépit des multiples difficultés auxquelles elles sont confrontées. WOMAN, qui repose sur des entretiens à la première personne, aborde des thèmes aussi variés que la maternité, l'éducation, le mariage et l'indépendance financière, mais aussi les règles et la sexualité.\n",
       "         \n",
       "             </div>, <div class=\"content-txt \">\n",
       "                       Des jeunes femmes dialoguent autour du thème de la sexualité féminine. Avec une liberté, un courage et un humour communicatifs, elles partagent leur expérience et leurs histoires, dans la volonté de changer le monde autour d'elles et de faire valoir le droit des femmes à une éducation sexuelle informée, délivrée des contraintes et des tabous.\n",
       "         \n",
       "             </div>, <div class=\"content-txt \">\n",
       "                       Première femme réalisatrice, productrice et directrice de studio de l’histoire du cinéma, Alice Guy est le sujet d’un documentaire mené tambour battant telle une enquête visant à faire (re)connaître la cinéaste et son œuvre de par le monde.\n",
       "         \n",
       "             </div>, <div class=\"content-txt \">\n",
       "                       À Brazzaville, un monde invisible régit le monde visible. L'apôtre Médard se démène pour guérir les malades victimes de mauvais sorts. Mais sa vie bascule lorsqu'on l'accuse publiquement de pratiquer la magie noire.\n",
       "         \n",
       "             </div>, <div class=\"content-txt \">\n",
       "                       Ils sont quinze jeunes danseurs, d’origines et d’horizons divers. Ils sont en tournée pour danser Crowd, une pièce de Gisèle Vienne inspirée des raves des années 90, sur l’émotion et la perception du temps. En les suivant de théâtre en théâtre, Si c’était de l’amour, documente leur travail et leurs étranges et intimes relations.\n",
       "         \n",
       "             </div>, <div class=\"content-txt \">\n",
       "                       THE GREAT GREEN WALL est Le projet ambitieux de faire pousser un mur d'arbres de 8 000 km s'étendant du Sénégal à l'Ethiopie. Cette ceinture doit lutter contre la désertification progressive de la région due aux changements climatiques mais également d'éviter les conflits croissants et les migrations massives.\n",
       "         \n",
       "             </div>, <div class=\"content-txt \">\n",
       "                       Bastien a vingt ans et milite depuis cinq ans dans le principal parti d’extrême-droite. Quand débute la campagne présidentielle, il est invité par son supérieur à s’engager davantage. Initié à l’art d’endosser le costume des politiciens, il se prend à rêver d’une carrière, mais de vieux démons resurgissent…\n",
       "         \n",
       "             </div>, <div class=\"content-txt \">\n",
       "                       Compilation de 12 courts métrages pornographiques et artistiques féministes...\n",
       "         \n",
       "             </div>, <div class=\"content-txt \">\n",
       "                       Ces expériences ont changé leur vie quel que soit leur âge, leur nationalité, leur profession et leur religion. La science rejoint ici la réalité et bouscule 400 ans de médecine traditionnelle...\n",
       "         \n",
       "             </div>, <div class=\"content-txt \">\n",
       "                       Voyage initiatique chez les Fangs du Gabon et les Shipibos au Pérou, ce film nous entraîne au son des instruments traditionnels tel le mogongo (arc en bouche), la harpe sacrée et les Icaros, à la rencontre de la sagesse des peuples traditionnels.\n",
       "         \n",
       "             </div>, <div class=\"content-txt \">\n",
       "                       Pour Jocelyne et Serge Klur, rien ne va plus : leur usine fabriquait des costumes Kenzo (Groupe LVMH), à Poix-du-Nord, près de Valenciennes, mais elle a été délocalisée en Pologne. Voilà le couple au chômage, criblé de dettes, risquant désormais de perdre sa maison.\n",
       "         \n",
       "             </div>, <div class=\"content-txt \">\n",
       "                       \"On voit régulièrement à la télévision ou dans les journaux que les agriculteurs laitiers vont mal, qu’ils sont les premiers concernés par le suicide. On le voit, on le sait et puis c’est comme ça. Ça ne nous empêche pas de dormir. Seulement voilà : le jour où j’ai rencontré Cyrille, j’ai eu du mal à m’en remettre. C’est devenu mon obsession.\"\n",
       "         \n",
       "             </div>, <div class=\"content-txt \">\n",
       "                       DU 4 AU 8 SEPTEMBRE UNIQUEMENTRéalisé à partir d'images 70MM inédites récemment découvertes et plus de 11 000 heures d'enregistrements audio, APOLLO 11 plonge au cœur de la plus célèbre mission de la NASA et des premiers pas de l’Homme sur la Lune.\n",
       "         \n",
       "             </div>, <div class=\"content-txt \">\n",
       "                       À travers les propos et les écrits de l’écrivain noir américain James Baldwin, Raoul Peck propose un film qui revisite les luttes sociales et politiques des Afro-Américains au cours de ces dernières décennies.\n",
       "         \n",
       "             </div>]"
      ]
     },
     "execution_count": 19,
     "metadata": {},
     "output_type": "execute_result"
    }
   ],
   "source": [
    "soup.select('div.content-txt')"
   ]
  },
  {
   "cell_type": "code",
   "execution_count": 21,
   "metadata": {},
   "outputs": [
    {
     "data": {
      "text/plain": [
       "[<a class=\"blue-link\" href=\"/personne/fichepersonne_gen_cpersonne=242094.html\">Justin Pemberton</a>,\n",
       " <a class=\"blue-link\" href=\"/personne/fichepersonne_gen_cpersonne=559887.html\">Thomas Piketty</a>,\n",
       " <a class=\"blue-link\" href=\"/personne/fichepersonne_gen_cpersonne=743742.html\">Anastasia Mikova</a>,\n",
       " <a class=\"blue-link\" href=\"/personne/fichepersonne_gen_cpersonne=98652.html\">Yann Arthus-Bertrand</a>,\n",
       " <a class=\"blue-link\" href=\"/personne/fichepersonne_gen_cpersonne=891726.html\">Daphné Leblond</a>,\n",
       " <a class=\"blue-link\" href=\"/personne/fichepersonne_gen_cpersonne=891727.html\">Lisa Billuart Monet</a>,\n",
       " <a class=\"blue-link\" href=\"/personne/fichepersonne_gen_cpersonne=839530.html\">Pamela B. Green</a>,\n",
       " <a class=\"blue-link\" href=\"/personne/fichepersonne_gen_cpersonne=871918.html\">Hadrien La Vapeur</a>,\n",
       " <a class=\"blue-link\" href=\"/personne/fichepersonne_gen_cpersonne=871919.html\">Corto Vaclav</a>,\n",
       " <a class=\"blue-link\" href=\"/personne/fichepersonne_gen_cpersonne=94124.html\">Patric Chiha</a>,\n",
       " <a class=\"blue-link\" href=\"/personne/fichepersonne_gen_cpersonne=729021.html\">Jared P. Scott</a>,\n",
       " <a class=\"blue-link\" href=\"/personne/fichepersonne_gen_cpersonne=178857.html\">Mathias Théry</a>,\n",
       " <a class=\"blue-link\" href=\"/personne/fichepersonne_gen_cpersonne=239402.html\">Etienne Chaillou</a>,\n",
       " <a class=\"blue-link\" href=\"/personne/fichepersonne_gen_cpersonne=414121.html\">Elin Magnusson</a>,\n",
       " <a class=\"blue-link\" href=\"/personne/fichepersonne_gen_cpersonne=414122.html\">Sara Kaaman</a>,\n",
       " <a class=\"blue-link\" href=\"/personne/fichepersonne_gen_cpersonne=414123.html\">Ester Martin Bergsmark</a>,\n",
       " <a class=\"blue-link\" href=\"/personne/fichepersonne_gen_cpersonne=484625.html\">Pierre Barnérias</a>,\n",
       " <a class=\"blue-link\" href=\"/personne/fichepersonne_gen_cpersonne=890362.html\">David Paquin</a>,\n",
       " <a class=\"blue-link\" href=\"/personne/fichepersonne_gen_cpersonne=606388.html\">François Ruffin</a>,\n",
       " <a class=\"blue-link\" href=\"/personne/fichepersonne_gen_cpersonne=62849.html\">Rodolphe Marconi</a>,\n",
       " <a class=\"blue-link\" href=\"/personne/fichepersonne_gen_cpersonne=669708.html\">Todd Douglas Miller</a>,\n",
       " <a class=\"blue-link\" href=\"/personne/fichepersonne_gen_cpersonne=2024.html\">Raoul Peck</a>]"
      ]
     },
     "execution_count": 21,
     "metadata": {},
     "output_type": "execute_result"
    }
   ],
   "source": [
    "soup.select('a.blue-link')"
   ]
  },
  {
   "cell_type": "code",
   "execution_count": 14,
   "metadata": {},
   "outputs": [
    {
     "ename": "IndentationError",
     "evalue": "unexpected indent (<ipython-input-14-ae722d9c5dd6>, line 2)",
     "output_type": "error",
     "traceback": [
      "\u001b[0;36m  File \u001b[0;32m\"<ipython-input-14-ae722d9c5dd6>\"\u001b[0;36m, line \u001b[0;32m2\u001b[0m\n\u001b[0;31m    soup=BeautifulSoup(r.get(url).content)\u001b[0m\n\u001b[0m    ^\u001b[0m\n\u001b[0;31mIndentationError\u001b[0m\u001b[0;31m:\u001b[0m unexpected indent\n"
     ]
    }
   ],
   "source": [
    "\n",
    "    soup=BeautifulSoup(r.get(url).content)\n",
    "    lol.extend([i['href'] for i in soup.select('a.meta-title-link')])\n",
    "    print('Link',url,'is done')\n"
   ]
  },
  {
   "cell_type": "code",
   "execution_count": null,
   "metadata": {},
   "outputs": [],
   "source": []
  },
  {
   "cell_type": "code",
   "execution_count": 8,
   "metadata": {},
   "outputs": [
    {
     "data": {
      "text/plain": [
       "[]"
      ]
     },
     "execution_count": 8,
     "metadata": {},
     "output_type": "execute_result"
    }
   ],
   "source": [
    "##soup.select('div.card entity-card entity-card-list cf nd___highlighted')"
   ]
  },
  {
   "cell_type": "code",
   "execution_count": null,
   "metadata": {},
   "outputs": [],
   "source": [
    "[i['div.card entity-card entity-card-list cf nd___highlighted'] for i in soup.select('img')]"
   ]
  }
 ],
 "metadata": {
  "kernelspec": {
   "display_name": "Python 3",
   "language": "python",
   "name": "python3"
  },
  "language_info": {
   "codemirror_mode": {
    "name": "ipython",
    "version": 3
   },
   "file_extension": ".py",
   "mimetype": "text/x-python",
   "name": "python",
   "nbconvert_exporter": "python",
   "pygments_lexer": "ipython3",
   "version": "3.7.0"
  }
 },
 "nbformat": 4,
 "nbformat_minor": 2
}
