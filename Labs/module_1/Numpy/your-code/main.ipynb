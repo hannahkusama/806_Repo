{
 "cells": [
  {
   "cell_type": "markdown",
   "metadata": {},
   "source": [
    "# Intrduction to NumPy\n",
    "\n",
    "\n",
    "#### 1. Import NumPy under the name np."
   ]
  },
  {
   "cell_type": "code",
   "execution_count": 2,
   "metadata": {},
   "outputs": [],
   "source": [
    "import numpy as np\n",
    "import pandas as pd"
   ]
  },
  {
   "cell_type": "markdown",
   "metadata": {},
   "source": [
    "#### 2. Print your NumPy version."
   ]
  },
  {
   "cell_type": "code",
   "execution_count": 3,
   "metadata": {},
   "outputs": [
    {
     "name": "stdout",
     "output_type": "stream",
     "text": [
      "1.15.1\n"
     ]
    }
   ],
   "source": [
    "print(np.version.version)"
   ]
  },
  {
   "cell_type": "markdown",
   "metadata": {},
   "source": [
    "#### 3. Generate a 2x3x5 3-dimensional array with random values. Assign the array to variable *a*.\n",
    "**Challenge**: there are at least three easy ways that use numpy to generate random arrays. How many ways can you find?"
   ]
  },
  {
   "cell_type": "code",
   "execution_count": 4,
   "metadata": {},
   "outputs": [],
   "source": [
    "a=np.random.random((2,3,5))"
   ]
  },
  {
   "cell_type": "code",
   "execution_count": 5,
   "metadata": {},
   "outputs": [
    {
     "data": {
      "text/plain": [
       "array([[[0.43058867, 0.43407643, 0.43692924, 0.07485342, 0.59814505],\n",
       "        [0.43951382, 0.37581583, 0.67226322, 0.40482671, 0.28195037],\n",
       "        [0.68137991, 0.61616194, 0.30769069, 0.94989909, 0.67261554]],\n",
       "\n",
       "       [[0.7348355 , 0.44204241, 0.83128681, 0.55390356, 0.0888115 ],\n",
       "        [0.70088139, 0.49767127, 0.69494115, 0.30566099, 0.47292626],\n",
       "        [0.70469107, 0.92678809, 0.42736909, 0.68641021, 0.93264658]]])"
      ]
     },
     "execution_count": 5,
     "metadata": {},
     "output_type": "execute_result"
    }
   ],
   "source": [
    "a"
   ]
  },
  {
   "cell_type": "code",
   "execution_count": 6,
   "metadata": {},
   "outputs": [
    {
     "data": {
      "text/plain": [
       "array([[[-36,   3,  45, -46, -45],\n",
       "        [-14,  45, -26,  21, -13],\n",
       "        [ -6,  35,  12, -21,   4]],\n",
       "\n",
       "       [[ 44,  19, -30, -26,   5],\n",
       "        [-47, -41,  -8,  18,  10],\n",
       "        [ 45, -26,  24,   8,  10]]])"
      ]
     },
     "execution_count": 6,
     "metadata": {},
     "output_type": "execute_result"
    }
   ],
   "source": [
    "a1=np.random.randint(-50,50,(2,3,5))\n",
    "a1"
   ]
  },
  {
   "cell_type": "code",
   "execution_count": 7,
   "metadata": {},
   "outputs": [],
   "source": [
    "import string"
   ]
  },
  {
   "cell_type": "code",
   "execution_count": 8,
   "metadata": {},
   "outputs": [
    {
     "data": {
      "text/plain": [
       "array([[['r', 'e', 't', 'd', 'x'],\n",
       "        ['x', 'b', 'k', 'q', 'c'],\n",
       "        ['l', 'r', 'h', 's', 'b']],\n",
       "\n",
       "       [['z', 'k', 'h', 'i', 'm'],\n",
       "        ['e', 'w', 'w', 'g', 'e'],\n",
       "        ['m', 'f', 'd', 'x', 'f']]], dtype='<U1')"
      ]
     },
     "execution_count": 8,
     "metadata": {},
     "output_type": "execute_result"
    }
   ],
   "source": [
    "a2=np.random.choice(list(string.ascii_lowercase),(2,3,5))\n",
    "a2"
   ]
  },
  {
   "cell_type": "markdown",
   "metadata": {},
   "source": [
    "#### 4. Print *a*.\n"
   ]
  },
  {
   "cell_type": "code",
   "execution_count": null,
   "metadata": {},
   "outputs": [],
   "source": [
    "# your code here"
   ]
  },
  {
   "cell_type": "markdown",
   "metadata": {},
   "source": [
    "#### 5. Create a 5x2x3 3-dimensional array with all values equaling 1. Assign the array to variable *b*."
   ]
  },
  {
   "cell_type": "code",
   "execution_count": 9,
   "metadata": {},
   "outputs": [
    {
     "data": {
      "text/plain": [
       "array([[[1., 1., 1.],\n",
       "        [1., 1., 1.]],\n",
       "\n",
       "       [[1., 1., 1.],\n",
       "        [1., 1., 1.]],\n",
       "\n",
       "       [[1., 1., 1.],\n",
       "        [1., 1., 1.]],\n",
       "\n",
       "       [[1., 1., 1.],\n",
       "        [1., 1., 1.]],\n",
       "\n",
       "       [[1., 1., 1.],\n",
       "        [1., 1., 1.]]])"
      ]
     },
     "execution_count": 9,
     "metadata": {},
     "output_type": "execute_result"
    }
   ],
   "source": [
    "b=np.ones((5,2,3))\n",
    "b"
   ]
  },
  {
   "cell_type": "markdown",
   "metadata": {},
   "source": [
    "#### 6. Print *b*.\n"
   ]
  },
  {
   "cell_type": "code",
   "execution_count": 10,
   "metadata": {},
   "outputs": [
    {
     "name": "stdout",
     "output_type": "stream",
     "text": [
      "Ones 3-D Matrix \n"
     ]
    }
   ],
   "source": [
    "print(\"Ones 3-D Matrix \")"
   ]
  },
  {
   "cell_type": "code",
   "execution_count": 11,
   "metadata": {},
   "outputs": [
    {
     "name": "stdout",
     "output_type": "stream",
     "text": [
      "[[[1. 1. 1.]\n",
      "  [1. 1. 1.]]\n",
      "\n",
      " [[1. 1. 1.]\n",
      "  [1. 1. 1.]]\n",
      "\n",
      " [[1. 1. 1.]\n",
      "  [1. 1. 1.]]\n",
      "\n",
      " [[1. 1. 1.]\n",
      "  [1. 1. 1.]]\n",
      "\n",
      " [[1. 1. 1.]\n",
      "  [1. 1. 1.]]]\n"
     ]
    }
   ],
   "source": [
    "print(b)"
   ]
  },
  {
   "cell_type": "markdown",
   "metadata": {},
   "source": [
    "#### 7. Do *a* and *b* have the same size? How do you prove that in Python code?"
   ]
  },
  {
   "cell_type": "code",
   "execution_count": 13,
   "metadata": {},
   "outputs": [
    {
     "name": "stdout",
     "output_type": "stream",
     "text": [
      "YES, a and b have the same size\n",
      "But do they have the same shape?\n",
      "NOOOOOO! Not the same shape\n"
     ]
    }
   ],
   "source": [
    "b=np.ones((5,2,3))\n",
    "a=np.random.random((2,3,5))\n",
    "\n",
    "if np.size(a)==np.size(b):\n",
    "        print(\"YES, a and b have the same size\")\n",
    "        print(\"But do they have the same shape?\")\n",
    "        if np.shape(a)==np.shape(b):\n",
    "               \n",
    "                print(\"YES, a and b have the same shape\") \n",
    "               \n",
    "        else:\n",
    "               \n",
    "                print(\"NOOOOOO! Not the same shape\") \n",
    "                \n",
    "else:\n",
    "        \n",
    "        print(\"Not even the same size\") \n",
    "       "
   ]
  },
  {
   "cell_type": "code",
   "execution_count": 16,
   "metadata": {},
   "outputs": [
    {
     "data": {
      "text/plain": [
       "30"
      ]
     },
     "execution_count": 16,
     "metadata": {},
     "output_type": "execute_result"
    }
   ],
   "source": [
    "b.size"
   ]
  },
  {
   "cell_type": "code",
   "execution_count": 17,
   "metadata": {},
   "outputs": [
    {
     "data": {
      "text/plain": [
       "30"
      ]
     },
     "execution_count": 17,
     "metadata": {},
     "output_type": "execute_result"
    }
   ],
   "source": [
    "a.size"
   ]
  },
  {
   "cell_type": "code",
   "execution_count": 18,
   "metadata": {},
   "outputs": [
    {
     "data": {
      "text/plain": [
       "(5, 2, 3)"
      ]
     },
     "execution_count": 18,
     "metadata": {},
     "output_type": "execute_result"
    }
   ],
   "source": [
    "b.shape"
   ]
  },
  {
   "cell_type": "code",
   "execution_count": 19,
   "metadata": {},
   "outputs": [
    {
     "data": {
      "text/plain": [
       "(2, 3, 5)"
      ]
     },
     "execution_count": 19,
     "metadata": {},
     "output_type": "execute_result"
    }
   ],
   "source": [
    "a.shape"
   ]
  },
  {
   "cell_type": "markdown",
   "metadata": {},
   "source": [
    "#### 8. Are you able to add *a* and *b*? Why or why not?\n"
   ]
  },
  {
   "cell_type": "code",
   "execution_count": 21,
   "metadata": {},
   "outputs": [
    {
     "name": "stdout",
     "output_type": "stream",
     "text": [
      "You cannot add them because they have different shapes.\n"
     ]
    }
   ],
   "source": [
    "if np.shape(a)==np.shape(b):\n",
    "      \n",
    "        print(\"You can add them because they have the same shape.\") \n",
    "    \n",
    "        print(np.add(a,b))\n",
    "else:\n",
    "    \n",
    "        print(\"You cannot add them because they have different shapes.\") \n",
    "       "
   ]
  },
  {
   "cell_type": "markdown",
   "metadata": {},
   "source": [
    "#### 9. Transpose *b* so that it has the same structure of *a* (i.e. become a 2x3x5 array). Assign the transposed array to variable *c*."
   ]
  },
  {
   "cell_type": "code",
   "execution_count": 22,
   "metadata": {},
   "outputs": [
    {
     "name": "stdout",
     "output_type": "stream",
     "text": [
      "(2, 3, 5)\n",
      "(5, 2, 3)\n",
      "Adding a and b because b transposed has the same shape than a.\n",
      "[[[1.08221521 1.52742444 1.8613381  1.43668944 1.78453075]\n",
      "  [1.05572521 1.71050792 1.1458884  1.74279895 1.84831059]\n",
      "  [1.64570288 1.95180113 1.38711697 1.19049395 1.96157026]]\n",
      "\n",
      " [[1.23019547 1.40432083 1.25424494 1.84817649 1.57640616]\n",
      "  [1.21961693 1.76480506 1.77566602 1.4364746  1.6147419 ]\n",
      "  [1.01286704 1.90198782 1.32250589 1.66662658 1.00713352]]]\n"
     ]
    }
   ],
   "source": [
    "print(np.shape(a))\n",
    "print(np.shape(b))\n",
    "if np.shape(a)==np.shape(np.transpose(b,(1,2,0))):\n",
    "        c=np.transpose(b,(1,2,0))\n",
    "        \n",
    "        print(\"Adding a and b because b transposed has the same shape than a.\") \n",
    "        \n",
    "        print(np.add(a,c))\n",
    "        \n",
    "else:\n",
    "        \n",
    "        print(\"Seems like b transposed does not have the same shape than a matrix. c matrix will be filled with 0.\")\n",
    "        \n",
    "        c=np.zeros(np.shape(a))"
   ]
  },
  {
   "cell_type": "code",
   "execution_count": null,
   "metadata": {},
   "outputs": [],
   "source": [
    "#no idea how transpose works !!!!"
   ]
  },
  {
   "cell_type": "code",
   "execution_count": 23,
   "metadata": {},
   "outputs": [
    {
     "name": "stdout",
     "output_type": "stream",
     "text": [
      "[[[1. 1. 1. 1. 1.]\n",
      "  [1. 1. 1. 1. 1.]\n",
      "  [1. 1. 1. 1. 1.]]\n",
      "\n",
      " [[1. 1. 1. 1. 1.]\n",
      "  [1. 1. 1. 1. 1.]\n",
      "  [1. 1. 1. 1. 1.]]]\n"
     ]
    }
   ],
   "source": [
    "print(c)"
   ]
  },
  {
   "cell_type": "markdown",
   "metadata": {},
   "source": [
    "#### 10. Try to add *a* and *c*. Now it should work. Assign the sum to variable *d*. But why does it work now?"
   ]
  },
  {
   "cell_type": "code",
   "execution_count": 24,
   "metadata": {},
   "outputs": [
    {
     "name": "stdout",
     "output_type": "stream",
     "text": [
      "a and c have the shame shape so we can add them\n",
      "[[[1.08221521 1.52742444 1.8613381  1.43668944 1.78453075]\n",
      "  [1.05572521 1.71050792 1.1458884  1.74279895 1.84831059]\n",
      "  [1.64570288 1.95180113 1.38711697 1.19049395 1.96157026]]\n",
      "\n",
      " [[1.23019547 1.40432083 1.25424494 1.84817649 1.57640616]\n",
      "  [1.21961693 1.76480506 1.77566602 1.4364746  1.6147419 ]\n",
      "  [1.01286704 1.90198782 1.32250589 1.66662658 1.00713352]]]\n"
     ]
    }
   ],
   "source": [
    "if np.shape(a)==np.shape(c):\n",
    "       \n",
    "        print(\"a and c have the shame shape so we can add them\")\n",
    "        \n",
    "        d=np.add(a,c)\n",
    "        print(d)\n",
    "        "
   ]
  },
  {
   "cell_type": "markdown",
   "metadata": {},
   "source": [
    "#### 11. Print *a* and *d*. Notice the difference and relation of the two array in terms of the values? Explain."
   ]
  },
  {
   "cell_type": "code",
   "execution_count": 25,
   "metadata": {},
   "outputs": [
    {
     "name": "stdout",
     "output_type": "stream",
     "text": [
      "[[[0.08221521 0.52742444 0.8613381  0.43668944 0.78453075]\n",
      "  [0.05572521 0.71050792 0.1458884  0.74279895 0.84831059]\n",
      "  [0.64570288 0.95180113 0.38711697 0.19049395 0.96157026]]\n",
      "\n",
      " [[0.23019547 0.40432083 0.25424494 0.84817649 0.57640616]\n",
      "  [0.21961693 0.76480506 0.77566602 0.4364746  0.6147419 ]\n",
      "  [0.01286704 0.90198782 0.32250589 0.66662658 0.00713352]]]\n",
      "[[[1.08221521 1.52742444 1.8613381  1.43668944 1.78453075]\n",
      "  [1.05572521 1.71050792 1.1458884  1.74279895 1.84831059]\n",
      "  [1.64570288 1.95180113 1.38711697 1.19049395 1.96157026]]\n",
      "\n",
      " [[1.23019547 1.40432083 1.25424494 1.84817649 1.57640616]\n",
      "  [1.21961693 1.76480506 1.77566602 1.4364746  1.6147419 ]\n",
      "  [1.01286704 1.90198782 1.32250589 1.66662658 1.00713352]]]\n",
      "a is equal to a+1 because c (and b) where a ones matrixes\n",
      "the difference is just a group o ones matrixes\n",
      "[[[1. 1. 1. 1. 1.]\n",
      "  [1. 1. 1. 1. 1.]\n",
      "  [1. 1. 1. 1. 1.]]\n",
      "\n",
      " [[1. 1. 1. 1. 1.]\n",
      "  [1. 1. 1. 1. 1.]\n",
      "  [1. 1. 1. 1. 1.]]]\n"
     ]
    }
   ],
   "source": [
    "\n",
    "\n",
    "print(a)\n",
    "\n",
    "print(d)\n",
    "\n",
    "print(\"a is equal to a+1 because c (and b) where a ones matrixes\")\n",
    "print(\"the difference is just a group o ones matrixes\")\n",
    "\n",
    "print(np.subtract(d,a))"
   ]
  },
  {
   "cell_type": "markdown",
   "metadata": {},
   "source": [
    "#### 12. Multiply *a* and *c*. Assign the result to *e*."
   ]
  },
  {
   "cell_type": "code",
   "execution_count": 26,
   "metadata": {},
   "outputs": [
    {
     "name": "stdout",
     "output_type": "stream",
     "text": [
      "[[[0.08221521 0.52742444 0.8613381  0.43668944 0.78453075]\n",
      "  [0.05572521 0.71050792 0.1458884  0.74279895 0.84831059]\n",
      "  [0.64570288 0.95180113 0.38711697 0.19049395 0.96157026]]\n",
      "\n",
      " [[0.23019547 0.40432083 0.25424494 0.84817649 0.57640616]\n",
      "  [0.21961693 0.76480506 0.77566602 0.4364746  0.6147419 ]\n",
      "  [0.01286704 0.90198782 0.32250589 0.66662658 0.00713352]]]\n"
     ]
    }
   ],
   "source": [
    "e=np.multiply(a, c)\n",
    "\n",
    "\n",
    "\n",
    "print(e)\n",
    "\n"
   ]
  },
  {
   "cell_type": "markdown",
   "metadata": {},
   "source": [
    "#### 13. Does *e* equal to *a*? Why or why not?\n"
   ]
  },
  {
   "cell_type": "code",
   "execution_count": 27,
   "metadata": {},
   "outputs": [
    {
     "name": "stdout",
     "output_type": "stream",
     "text": [
      "[[[ True  True  True  True  True]\n",
      "  [ True  True  True  True  True]\n",
      "  [ True  True  True  True  True]]\n",
      "\n",
      " [[ True  True  True  True  True]\n",
      "  [ True  True  True  True  True]\n",
      "  [ True  True  True  True  True]]]\n",
      "e is equal to a because e multiplies a to c, so c is b transposed (b is a ones matrix)\n"
     ]
    }
   ],
   "source": [
    "\n",
    "print(a==e)\n",
    "\n",
    "print(\"e is equal to a because e multiplies a to c, so c is b transposed (b is a ones matrix)\")\n"
   ]
  },
  {
   "cell_type": "markdown",
   "metadata": {},
   "source": [
    "#### 14. Identify the max, min, and mean values in *d*. Assign those values to variables *d_max*, *d_min* and *d_mean*."
   ]
  },
  {
   "cell_type": "code",
   "execution_count": 28,
   "metadata": {},
   "outputs": [
    {
     "name": "stdout",
     "output_type": "stream",
     "text": [
      "\n",
      "Max:  1.9615702581285048  | Min:  1.0071335165088233  | Mean:  1.5122627811416087\n"
     ]
    }
   ],
   "source": [
    "d_max=d.max()\n",
    "d_min=d.min()\n",
    "d_mean=d.mean()\n",
    "\n",
    "print(\"Max: \",d_max,\" | Min: \",d_min,\" | Mean: \",d_mean)\n"
   ]
  },
  {
   "cell_type": "markdown",
   "metadata": {},
   "source": [
    "#### 15. Now we want to label the values in *d*. First create an empty array *f* with the same shape (i.e. 2x3x5) as *d* using `np.empty`.\n"
   ]
  },
  {
   "cell_type": "code",
   "execution_count": 29,
   "metadata": {},
   "outputs": [
    {
     "name": "stdout",
     "output_type": "stream",
     "text": [
      "[[[0.08221521 0.52742444 0.8613381  0.43668944 0.78453075]\n",
      "  [0.05572521 0.71050792 0.1458884  0.74279895 0.84831059]\n",
      "  [0.64570288 0.95180113 0.38711697 0.19049395 0.96157026]]\n",
      "\n",
      " [[0.23019547 0.40432083 0.25424494 0.84817649 0.57640616]\n",
      "  [0.21961693 0.76480506 0.77566602 0.4364746  0.6147419 ]\n",
      "  [0.01286704 0.90198782 0.32250589 0.66662658 0.00713352]]]\n"
     ]
    }
   ],
   "source": [
    "f=np.empty(np.shape(d))\n",
    "\n",
    "\n",
    "print(f)\n"
   ]
  },
  {
   "cell_type": "markdown",
   "metadata": {},
   "source": [
    "#### 16. Populate the values in *f*. \n",
    "\n",
    "For each value in *d*, if it's larger than *d_min* but smaller than *d_mean*, assign 25 to the corresponding value in *f*. If a value in *d* is larger than *d_mean* but smaller than *d_max*, assign 75 to the corresponding value in *f*. If a value equals to *d_mean*, assign 50 to the corresponding value in *f*. Assign 0 to the corresponding value(s) in *f* for *d_min* in *d*. Assign 100 to the corresponding value(s) in *f* for *d_max* in *d*. In the end, f should have only the following values: 0, 25, 50, 75, and 100.\n",
    "\n",
    "**Note**: you don't have to use Numpy in this question."
   ]
  },
  {
   "cell_type": "code",
   "execution_count": 30,
   "metadata": {},
   "outputs": [
    {
     "name": "stdout",
     "output_type": "stream",
     "text": [
      "[[[ 25.  75.  75.  25.  75.]\n",
      "  [ 25.  75.  25.  75.  75.]\n",
      "  [ 75.  75.  25.  25. 100.]]\n",
      "\n",
      " [[ 25.  25.  25.  75.  75.]\n",
      "  [ 25.  75.  75.  25.  75.]\n",
      "  [ 25.  75.  25.  75.   0.]]]\n"
     ]
    }
   ],
   "source": [
    "ff=f.copy()\n",
    "\n",
    "for i in range(np.shape(f)[0]):\n",
    "    for j in range(np.shape(f)[1]):\n",
    "        for k in range(np.shape(f)[2]):\n",
    "            value=d[i,j,k]\n",
    "            if value==d_min:\n",
    "                f[i,j,k]=0\n",
    "            if value>d_mean and value<d_max:\n",
    "                f[i,j,k]=75\n",
    "            if value==d_mean:\n",
    "                f[i,j,k]=50\n",
    "            if value==d_max:\n",
    "                f[i,j,k]=100\n",
    "            if value>d_min and value<d_mean:\n",
    "                f[i,j,k]=25\n",
    "print(f)\n"
   ]
  },
  {
   "cell_type": "code",
   "execution_count": null,
   "metadata": {},
   "outputs": [],
   "source": [
    "f=ff\n",
    "f[d==d_min]=0.0\n",
    "f[d==d_max]=100.0\n",
    "f[(d<d_mean)==(d>d_min)]=25.0\n",
    "f[(d<d_max)==(d>d_mean)]=75.0\n",
    "f[d==d_max]=100.0\n",
    "\n",
    "print(f)\n"
   ]
  },
  {
   "cell_type": "markdown",
   "metadata": {},
   "source": [
    "#### 17. Print *d* and *f*. Do you have your expected *f*?\n",
    "For instance, if your *d* is:\n",
    "```python\n",
    "[[[1.85836099, 1.67064465, 1.62576044, 1.40243961, 1.88454931],\n",
    "[1.75354326, 1.69403643, 1.36729252, 1.61415071, 1.12104981],\n",
    "[1.72201435, 1.1862918 , 1.87078449, 1.7726778 , 1.88180042]],\n",
    "[[1.44747908, 1.31673383, 1.02000951, 1.52218947, 1.97066381],\n",
    "[1.79129243, 1.74983003, 1.96028037, 1.85166831, 1.65450881],\n",
    "[1.18068344, 1.9587381 , 1.00656599, 1.93402165, 1.73514584]]]\n",
    "```\n",
    "Your *f* should be:\n",
    "```python\n",
    "[[[ 75.,  75.,  75.,  25.,  75.],\n",
    "[ 75.,  75.,  25.,  25.,  25.],\n",
    "[ 75.,  25.,  75.,  75.,  75.]],\n",
    "[[ 25.,  25.,  25.,  25., 100.],\n",
    "[ 75.,  75.,  75.,  75.,  75.],\n",
    "[ 25.,  75.,   0.,  75.,  75.]]]\n",
    "```"
   ]
  },
  {
   "cell_type": "code",
   "execution_count": null,
   "metadata": {},
   "outputs": [],
   "source": [
    "(\"Min: \",d_min,\" | Max: \",d_max,\" | Mean: \",d_mean)"
   ]
  },
  {
   "cell_type": "markdown",
   "metadata": {},
   "source": [
    "#### 18. Bonus question: instead of using numbers (i.e. 0, 25, 50, 75, and 100), use string values  (\"A\", \"B\", \"C\", \"D\", and \"E\") to label the array elements. For the example above, the expected result is:\n",
    "\n",
    "```python\n",
    "[[[ 'D',  'D',  'D',  'B',  'D'],\n",
    "[ 'D',  'D',  'B',  'B',  'B'],\n",
    "[ 'D',  'B',  'D',  'D',  'D']],\n",
    "[[ 'B',  'B',  'B',  'B',  'E'],\n",
    "[ 'D',  'D',  'D',  'D',  'D'],\n",
    "[ 'B',  'D',   'A',  'D', 'D']]]\n",
    "```\n",
    "**Note**: you don't have to use Numpy in this question."
   ]
  },
  {
   "cell_type": "code",
   "execution_count": 31,
   "metadata": {},
   "outputs": [],
   "source": [
    "f=f.astype(str)\n",
    "f[f=='0.0']='A'\n",
    "f[f=='25.0']='B'\n",
    "f[f=='50.0']='C'\n",
    "f[f=='75.0']='D'\n",
    "f[f=='100.0']='E'"
   ]
  },
  {
   "cell_type": "code",
   "execution_count": 32,
   "metadata": {},
   "outputs": [
    {
     "name": "stdout",
     "output_type": "stream",
     "text": [
      "[[['B' 'D' 'D' 'B' 'D']\n",
      "  ['B' 'D' 'B' 'D' 'D']\n",
      "  ['D' 'D' 'B' 'B' 'E']]\n",
      "\n",
      " [['B' 'B' 'B' 'D' 'D']\n",
      "  ['B' 'D' 'D' 'B' 'D']\n",
      "  ['B' 'D' 'B' 'D' 'A']]]\n"
     ]
    }
   ],
   "source": [
    "print(f)"
   ]
  },
  {
   "cell_type": "code",
   "execution_count": null,
   "metadata": {},
   "outputs": [],
   "source": [
    "x=[1,2,3,4,5,4,5,4,3,3,2,2,2,1,3,1]-2,8"
   ]
  }
 ],
 "metadata": {
  "kernelspec": {
   "display_name": "Python 3",
   "language": "python",
   "name": "python3"
  },
  "language_info": {
   "codemirror_mode": {
    "name": "ipython",
    "version": 3
   },
   "file_extension": ".py",
   "mimetype": "text/x-python",
   "name": "python",
   "nbconvert_exporter": "python",
   "pygments_lexer": "ipython3",
   "version": "3.7.0"
  }
 },
 "nbformat": 4,
 "nbformat_minor": 2
}
