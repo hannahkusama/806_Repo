{
 "cells": [
  {
   "cell_type": "markdown",
   "metadata": {},
   "source": [
    "## Challenge 2: Sets\n",
    "\n",
    "There are a lot to learn about Python Sets and the information presented in the lesson is limited due to its length. To learn Python Sets in depth you are strongly encouraged to review the W3Schools tutorial on [Python Sets Examples and Methods](https://www.w3schools.com/python/python_sets.asp) before you work on this lab. Some difficult questions in this lab have their solutions in the W3Schools tutorial.\n",
    "\n",
    "#### First, import the Python `random` library."
   ]
  },
  {
   "cell_type": "code",
   "execution_count": 7,
   "metadata": {},
   "outputs": [],
   "source": [
    "import random"
   ]
  },
  {
   "cell_type": "code",
   "execution_count": 14,
   "metadata": {},
   "outputs": [
    {
     "name": "stdout",
     "output_type": "stream",
     "text": [
      "0.13436424411240122\n",
      "0.8474337369372327\n",
      "0.763774618976614\n",
      "0.2550690257394217\n",
      "0.49543508709194095\n",
      "0.4494910647887381\n",
      "0.651592972722763\n",
      "0.7887233511355132\n",
      "0.0938595867742349\n",
      "0.02834747652200631\n",
      "0.8357651039198697\n",
      "0.43276706790505337\n",
      "0.762280082457942\n",
      "0.0021060533511106927\n",
      "0.4453871940548014\n",
      "0.7215400323407826\n",
      "0.22876222127045265\n",
      "0.9452706955539223\n",
      "0.9014274576114836\n",
      "0.030589983033553536\n",
      "0.0254458609934608\n",
      "0.5414124727934966\n",
      "0.9391491627785106\n",
      "0.38120423768821243\n",
      "0.21659939713061338\n",
      "0.4221165755827173\n",
      "0.029040787574867943\n",
      "0.22169166627303505\n",
      "0.43788759365057206\n",
      "0.49581224138185065\n",
      "0.23308445025757263\n",
      "0.2308665415409843\n",
      "0.2187810373376886\n",
      "0.4596034657377336\n",
      "0.28978161459048557\n",
      "0.021489705265908876\n",
      "0.8375779756625729\n",
      "0.5564543226524334\n",
      "0.6422943629324456\n",
      "0.1859062658947177\n",
      "0.9925434121760651\n",
      "0.8599465287952899\n",
      "0.12088995980580641\n",
      "0.3326951853601291\n",
      "0.7214844075832684\n",
      "0.7111917696952796\n",
      "0.9364405867994596\n",
      "0.4221069999614152\n",
      "0.830035693274327\n",
      "0.670305566414071\n",
      "0.3033685109329176\n",
      "0.5875806061435594\n",
      "0.8824790008318577\n",
      "0.8461974184283128\n",
      "0.5052838205796004\n",
      "0.5890022579825517\n",
      "0.034525830151341586\n",
      "0.24273997354306764\n",
      "0.7974042475543028\n",
      "0.4143139993007743\n",
      "0.17300740157905092\n",
      "0.548798761388153\n",
      "0.7030407620656315\n",
      "0.6744858305023272\n",
      "0.3747030205016403\n",
      "0.4389616300445631\n",
      "0.5084264882499818\n",
      "0.7784426150001458\n",
      "0.5209384176131452\n",
      "0.39325509496422606\n",
      "0.4896935204622582\n",
      "0.029574963966907064\n",
      "0.04348729035652743\n",
      "0.703382088603836\n",
      "0.9831877173096739\n",
      "0.5931837303800576\n",
      "0.393599686377914\n",
      "0.17034919685568128\n",
      "0.5022385584334831\n",
      "0.9820766375385342\n",
      "0.7705231398308006\n",
      "0.5396174484497788\n",
      "0.8602897789205496\n",
      "0.23217612806301458\n",
      "0.513771663187637\n",
      "0.9524673882682695\n",
      "0.5777948078012031\n",
      "0.45913173191066836\n",
      "0.2692794774414212\n",
      "0.5479963094662489\n",
      "0.9571162814602269\n",
      "0.005709129450392925\n",
      "0.7836552326153898\n",
      "0.8204859119254819\n",
      "0.8861795808260082\n",
      "0.7405034118331963\n",
      "0.8091399008724796\n",
      "0.518678283523002\n",
      "0.561357864778379\n",
      "0.4260906796881502\n"
     ]
    }
   ],
   "source": [
    "##import random\n",
    "\n",
    "##mylist = \n",
    "##print(random.choices(mylist, weights = [10, 1, 1], k = 14))\n",
    "\n",
    "##for i in range(0, 100):\n",
    "    ##print(i)\n",
    "# generate random floating point values\n",
    "from random import seed\n",
    "from random import random\n",
    "# seed random number generator\n",
    "seed(1)\n",
    "# generate random numbers between 0-1\n",
    "for _ in range(100):\n",
    "    value = random()\n",
    "    print(value)"
   ]
  },
  {
   "cell_type": "markdown",
   "metadata": {},
   "source": [
    "#### In the cell below, create a list named `sample_list_1` with 80 random values. \n",
    "\n",
    "Requirements:\n",
    "\n",
    "* Each value is an integer falling between 0 and 100.\n",
    "* Each value in the list is unique.\n",
    "\n",
    "Print `sample_list_1` to review its values\n",
    "\n",
    "*Hint: use `random.sample` ([reference](https://docs.python.org/3/library/random.html#random.sample)).*"
   ]
  },
  {
   "cell_type": "markdown",
   "metadata": {},
   "source": [
    "#### Convert `sample_list_1` to a set called `set1`. Print the length of the set. Is its length still 80?"
   ]
  },
  {
   "cell_type": "code",
   "execution_count": 19,
   "metadata": {},
   "outputs": [
    {
     "name": "stdout",
     "output_type": "stream",
     "text": [
      "17\n",
      "72\n",
      "8\n",
      "32\n",
      "15\n",
      "63\n",
      "57\n",
      "60\n",
      "48\n",
      "26\n",
      "12\n",
      "62\n",
      "3\n",
      "49\n",
      "55\n",
      "77\n",
      "0\n",
      "57\n",
      "34\n",
      "29\n",
      "75\n",
      "13\n",
      "40\n",
      "3\n",
      "2\n",
      "3\n",
      "69\n",
      "1\n",
      "48\n",
      "27\n",
      "54\n",
      "3\n",
      "67\n",
      "28\n",
      "56\n",
      "63\n",
      "70\n",
      "29\n",
      "44\n",
      "29\n",
      "28\n",
      "58\n",
      "37\n",
      "2\n",
      "53\n",
      "71\n",
      "12\n",
      "23\n",
      "80\n",
      "37\n",
      "15\n",
      "42\n",
      "64\n",
      "54\n",
      "64\n",
      "24\n",
      "38\n",
      "36\n",
      "75\n",
      "63\n",
      "64\n",
      "50\n",
      "75\n",
      "4\n",
      "61\n",
      "31\n",
      "51\n",
      "53\n",
      "22\n",
      "46\n",
      "70\n",
      "47\n",
      "11\n",
      "56\n",
      "65\n",
      "13\n",
      "20\n",
      "66\n",
      "50\n",
      "47\n",
      "62\n",
      "3\n",
      "60\n",
      "5\n",
      "39\n",
      "78\n",
      "75\n",
      "74\n",
      "50\n",
      "21\n",
      "21\n",
      "64\n",
      "29\n",
      "1\n",
      "25\n",
      "69\n",
      "70\n",
      "29\n",
      "51\n",
      "65\n"
     ]
    }
   ],
   "source": [
    "\n",
    "# generate random integer values\n",
    "from random import seed\n",
    "from random import randint\n",
    "# seed random number generator\n",
    "seed(1)\n",
    "# generate some integers\n",
    "for _ in range(100):\n",
    "\tvalue = randint(0, 80)\n",
    "\tprint(value)\n"
   ]
  },
  {
   "cell_type": "markdown",
   "metadata": {},
   "source": [
    "#### Create another list named `sample_list_2` with 80 random values.\n",
    "\n",
    "Requirements:\n",
    "\n",
    "* Each value is an integer falling between 0 and 100.\n",
    "* The values in the list don't have to be unique.\n",
    "\n",
    "*Hint: Use a FOR loop.*"
   ]
  },
  {
   "cell_type": "code",
   "execution_count": 25,
   "metadata": {},
   "outputs": [
    {
     "name": "stdout",
     "output_type": "stream",
     "text": [
      "[0, 1, 2, 3, 4, 5, 6, 7, 8, 9, 10, 11, 12, 13, 14, 15, 16, 17, 18, 19, 20, 21, 22, 23, 24, 25, 26, 27, 28, 29, 30, 31, 32, 33, 34, 35, 36, 37, 38, 39, 40, 41, 42, 43, 44, 45, 46, 47, 48, 49, 50, 51, 52, 53, 54, 55, 56, 57, 58, 59, 60, 61, 62, 63, 64, 65, 66, 67, 68, 69, 70, 71, 72, 73, 74, 75, 76, 77, 78, 79, 80, 81, 82, 83, 84, 85, 86, 87, 88, 89, 90, 91, 92, 93, 94, 95, 96, 97, 98, 99]\n",
      "17\n",
      "72\n",
      "97\n",
      "8\n",
      "32\n",
      "15\n",
      "63\n",
      "97\n",
      "57\n",
      "60\n",
      "83\n",
      "48\n",
      "26\n",
      "12\n",
      "62\n",
      "3\n",
      "49\n",
      "55\n",
      "77\n",
      "97\n",
      "98\n",
      "0\n",
      "89\n",
      "57\n",
      "34\n",
      "92\n",
      "29\n",
      "75\n",
      "13\n",
      "40\n",
      "3\n",
      "2\n",
      "3\n",
      "83\n",
      "69\n",
      "1\n",
      "48\n",
      "87\n",
      "27\n",
      "54\n",
      "92\n",
      "3\n",
      "67\n",
      "28\n",
      "97\n",
      "56\n",
      "63\n",
      "70\n",
      "29\n",
      "44\n",
      "29\n",
      "86\n",
      "28\n",
      "97\n",
      "58\n",
      "37\n",
      "2\n",
      "53\n",
      "71\n",
      "82\n",
      "12\n",
      "23\n",
      "80\n",
      "92\n",
      "37\n",
      "15\n",
      "95\n",
      "42\n",
      "92\n",
      "91\n",
      "64\n",
      "54\n",
      "64\n",
      "85\n",
      "24\n",
      "38\n",
      "36\n",
      "75\n",
      "63\n",
      "64\n"
     ]
    }
   ],
   "source": [
    "\n",
    "# choose a random element from a list\n",
    "from random import seed\n",
    "from random import choice\n",
    "# seed random number generator\n",
    "seed(1)\n",
    "# prepare a sequence\n",
    "sequence = [i for i in range(100)]\n",
    "print(sequence)\n",
    "# make choices from the sequence\n",
    "for _ in range(80):\n",
    "\tsample_list_2 = choice(sequence)\n",
    "\tprint(sample_list_2)"
   ]
  },
  {
   "cell_type": "markdown",
   "metadata": {},
   "source": [
    "#### Convert `sample_list_2` to a set called `set2`. Print the length of the set. Is its length still 80?"
   ]
  },
  {
   "cell_type": "code",
   "execution_count": 27,
   "metadata": {},
   "outputs": [
    {
     "ename": "TypeError",
     "evalue": "object of type 'int' has no len()",
     "output_type": "error",
     "traceback": [
      "\u001b[0;31m---------------------------------------------------------------------------\u001b[0m",
      "\u001b[0;31mTypeError\u001b[0m                                 Traceback (most recent call last)",
      "\u001b[0;32m<ipython-input-27-371e1d68ae81>\u001b[0m in \u001b[0;36m<module>\u001b[0;34m()\u001b[0m\n\u001b[0;32m----> 1\u001b[0;31m \u001b[0mprint\u001b[0m\u001b[0;34m(\u001b[0m\u001b[0mlen\u001b[0m\u001b[0;34m(\u001b[0m\u001b[0msample_list_2\u001b[0m\u001b[0;34m)\u001b[0m\u001b[0;34m)\u001b[0m\u001b[0;34m\u001b[0m\u001b[0m\n\u001b[0m",
      "\u001b[0;31mTypeError\u001b[0m: object of type 'int' has no len()"
     ]
    }
   ],
   "source": [
    "print(len(sample_list_2))\n"
   ]
  },
  {
   "cell_type": "markdown",
   "metadata": {},
   "source": [
    "#### Identify the elements present in `set1` but not in `set2`. Assign the elements to a new set named `set3`."
   ]
  },
  {
   "cell_type": "code",
   "execution_count": null,
   "metadata": {},
   "outputs": [],
   "source": [
    "# Your code here\n"
   ]
  },
  {
   "cell_type": "markdown",
   "metadata": {},
   "source": [
    "#### Identify the elements present in `set2` but not in `set1`. Assign the elements to a new set named `set4`."
   ]
  },
  {
   "cell_type": "code",
   "execution_count": null,
   "metadata": {},
   "outputs": [],
   "source": [
    "# Your code here\n"
   ]
  },
  {
   "cell_type": "markdown",
   "metadata": {},
   "source": [
    "#### Now Identify the elements shared between `set1` and `set2`. Assign the elements to a new set named `set5`."
   ]
  },
  {
   "cell_type": "code",
   "execution_count": null,
   "metadata": {},
   "outputs": [],
   "source": [
    "# Your code here\n"
   ]
  },
  {
   "cell_type": "markdown",
   "metadata": {},
   "source": [
    "#### What is the relationship among the following values:\n",
    "\n",
    "* len(set1)\n",
    "* len(set2)\n",
    "* len(set3)\n",
    "* len(set4)\n",
    "* len(set5)\n",
    "\n",
    "Use a math formular to represent that relationship. Test your formular with Python code."
   ]
  },
  {
   "cell_type": "code",
   "execution_count": null,
   "metadata": {},
   "outputs": [],
   "source": [
    "# Your code here\n"
   ]
  },
  {
   "cell_type": "markdown",
   "metadata": {},
   "source": [
    "#### Create an empty set called `set6`."
   ]
  },
  {
   "cell_type": "code",
   "execution_count": null,
   "metadata": {},
   "outputs": [],
   "source": [
    "# Your code here\n"
   ]
  },
  {
   "cell_type": "markdown",
   "metadata": {},
   "source": [
    "#### Add `set3` and `set5` to `set6` using the Python Set `update` method."
   ]
  },
  {
   "cell_type": "code",
   "execution_count": null,
   "metadata": {},
   "outputs": [],
   "source": [
    "# Your code here\n"
   ]
  },
  {
   "cell_type": "markdown",
   "metadata": {},
   "source": [
    "#### Check if `set1` and `set6` are equal."
   ]
  },
  {
   "cell_type": "code",
   "execution_count": null,
   "metadata": {},
   "outputs": [],
   "source": [
    "# Your code here\n"
   ]
  },
  {
   "cell_type": "markdown",
   "metadata": {},
   "source": [
    "#### Check if `set1` contains `set2` using the Python Set `issubset` method. Then check if `set1` contains `set3`.*"
   ]
  },
  {
   "cell_type": "code",
   "execution_count": null,
   "metadata": {},
   "outputs": [],
   "source": [
    "# Your code here\n"
   ]
  },
  {
   "cell_type": "markdown",
   "metadata": {},
   "source": [
    "#### Using the Python Set `union` method, aggregate `set3`, `set4`, and `set5`. Then aggregate `set1` and `set2`. \n",
    "\n",
    "#### Check if the aggregated values are equal."
   ]
  },
  {
   "cell_type": "code",
   "execution_count": null,
   "metadata": {},
   "outputs": [],
   "source": [
    "# Your code here\n"
   ]
  },
  {
   "cell_type": "markdown",
   "metadata": {},
   "source": [
    "#### Using the `pop` method, remove the first element from `set1`."
   ]
  },
  {
   "cell_type": "code",
   "execution_count": null,
   "metadata": {},
   "outputs": [],
   "source": [
    "# Your code here\n"
   ]
  },
  {
   "cell_type": "markdown",
   "metadata": {},
   "source": [
    "#### Remove every element in the following list from `set1` if they are present in the set. Print the remaining elements.\n",
    "\n",
    "```\n",
    "list_to_remove = [1, 9, 11, 19, 21, 29, 31, 39, 41, 49, 51, 59, 61, 69, 71, 79, 81, 89, 91, 99]\n",
    "```"
   ]
  },
  {
   "cell_type": "code",
   "execution_count": null,
   "metadata": {},
   "outputs": [],
   "source": [
    "# Your code here\n"
   ]
  }
 ],
 "metadata": {
  "kernelspec": {
   "display_name": "Python 3",
   "language": "python",
   "name": "python3"
  },
  "language_info": {
   "codemirror_mode": {
    "name": "ipython",
    "version": 3
   },
   "file_extension": ".py",
   "mimetype": "text/x-python",
   "name": "python",
   "nbconvert_exporter": "python",
   "pygments_lexer": "ipython3",
   "version": "3.7.0"
  }
 },
 "nbformat": 4,
 "nbformat_minor": 2
}
